{
 "cells": [
  {
   "cell_type": "code",
   "execution_count": null,
   "metadata": {
    "colab": {
     "base_uri": "https://localhost:8080/"
    },
    "id": "EhfViWqxa6c2",
    "outputId": "2826c963-097a-451f-b449-1f5dc8843b09"
   },
   "outputs": [
    {
     "name": "stdout",
     "output_type": "stream",
     "text": [
      "Looking in indexes: https://pypi.org/simple, https://us-python.pkg.dev/colab-wheels/public/simple/\n",
      "Collecting flair\n",
      "  Downloading flair-0.12.2-py3-none-any.whl (373 kB)\n",
      "\u001b[2K     \u001b[90m━━━━━━━━━━━━━━━━━━━━━━━━━━━━━━━━━━━━━━━\u001b[0m \u001b[32m373.1/373.1 kB\u001b[0m \u001b[31m8.4 MB/s\u001b[0m eta \u001b[36m0:00:00\u001b[0m\n",
      "\u001b[?25hRequirement already satisfied: python-dateutil>=2.6.1 in /usr/local/lib/python3.10/dist-packages (from flair) (2.8.2)\n",
      "Requirement already satisfied: torch!=1.8,>=1.5.0 in /usr/local/lib/python3.10/dist-packages (from flair) (2.0.1+cu118)\n",
      "Requirement already satisfied: gensim>=3.8.0 in /usr/local/lib/python3.10/dist-packages (from flair) (4.3.1)\n",
      "Requirement already satisfied: tqdm>=4.26.0 in /usr/local/lib/python3.10/dist-packages (from flair) (4.65.0)\n",
      "Collecting segtok>=1.5.7 (from flair)\n",
      "  Downloading segtok-1.5.11-py3-none-any.whl (24 kB)\n",
      "Requirement already satisfied: matplotlib>=2.2.3 in /usr/local/lib/python3.10/dist-packages (from flair) (3.7.1)\n",
      "Collecting mpld3==0.3 (from flair)\n",
      "  Downloading mpld3-0.3.tar.gz (788 kB)\n",
      "\u001b[2K     \u001b[90m━━━━━━━━━━━━━━━━━━━━━━━━━━━━━━━━━━━━━━\u001b[0m \u001b[32m788.5/788.5 kB\u001b[0m \u001b[31m35.2 MB/s\u001b[0m eta \u001b[36m0:00:00\u001b[0m\n",
      "\u001b[?25h  Preparing metadata (setup.py) ... \u001b[?25l\u001b[?25hdone\n",
      "Requirement already satisfied: scikit-learn>=0.21.3 in /usr/local/lib/python3.10/dist-packages (from flair) (1.2.2)\n",
      "Collecting sqlitedict>=1.6.0 (from flair)\n",
      "  Downloading sqlitedict-2.1.0.tar.gz (21 kB)\n",
      "  Preparing metadata (setup.py) ... \u001b[?25l\u001b[?25hdone\n",
      "Collecting deprecated>=1.2.4 (from flair)\n",
      "  Downloading Deprecated-1.2.14-py2.py3-none-any.whl (9.6 kB)\n",
      "Requirement already satisfied: hyperopt>=0.2.7 in /usr/local/lib/python3.10/dist-packages (from flair) (0.2.7)\n",
      "Collecting boto3 (from flair)\n",
      "  Downloading boto3-1.26.157-py3-none-any.whl (135 kB)\n",
      "\u001b[2K     \u001b[90m━━━━━━━━━━━━━━━━━━━━━━━━━━━━━━━━━━━━━━\u001b[0m \u001b[32m135.9/135.9 kB\u001b[0m \u001b[31m19.7 MB/s\u001b[0m eta \u001b[36m0:00:00\u001b[0m\n",
      "\u001b[?25hCollecting transformers[sentencepiece]>=4.18.0 (from flair)\n",
      "  Downloading transformers-4.30.2-py3-none-any.whl (7.2 MB)\n",
      "\u001b[2K     \u001b[90m━━━━━━━━━━━━━━━━━━━━━━━━━━━━━━━━━━━━━━━━\u001b[0m \u001b[32m7.2/7.2 MB\u001b[0m \u001b[31m75.8 MB/s\u001b[0m eta \u001b[36m0:00:00\u001b[0m\n",
      "\u001b[?25hCollecting bpemb>=0.3.2 (from flair)\n",
      "  Downloading bpemb-0.3.4-py3-none-any.whl (19 kB)\n",
      "Requirement already satisfied: regex in /usr/local/lib/python3.10/dist-packages (from flair) (2022.10.31)\n",
      "Requirement already satisfied: tabulate in /usr/local/lib/python3.10/dist-packages (from flair) (0.8.10)\n",
      "Collecting langdetect (from flair)\n",
      "  Downloading langdetect-1.0.9.tar.gz (981 kB)\n",
      "\u001b[2K     \u001b[90m━━━━━━━━━━━━━━━━━━━━━━━━━━━━━━━━━━━━━━\u001b[0m \u001b[32m981.5/981.5 kB\u001b[0m \u001b[31m63.9 MB/s\u001b[0m eta \u001b[36m0:00:00\u001b[0m\n",
      "\u001b[?25h  Preparing metadata (setup.py) ... \u001b[?25l\u001b[?25hdone\n",
      "Requirement already satisfied: lxml in /usr/local/lib/python3.10/dist-packages (from flair) (4.9.2)\n",
      "Collecting ftfy (from flair)\n",
      "  Downloading ftfy-6.1.1-py3-none-any.whl (53 kB)\n",
      "\u001b[2K     \u001b[90m━━━━━━━━━━━━━━━━━━━━━━━━━━━━━━━━━━━━━━━━\u001b[0m \u001b[32m53.1/53.1 kB\u001b[0m \u001b[31m7.6 MB/s\u001b[0m eta \u001b[36m0:00:00\u001b[0m\n",
      "\u001b[?25hCollecting janome (from flair)\n",
      "  Downloading Janome-0.4.2-py2.py3-none-any.whl (19.7 MB)\n",
      "\u001b[2K     \u001b[90m━━━━━━━━━━━━━━━━━━━━━━━━━━━━━━━━━━━━━━━━\u001b[0m \u001b[32m19.7/19.7 MB\u001b[0m \u001b[31m77.8 MB/s\u001b[0m eta \u001b[36m0:00:00\u001b[0m\n",
      "\u001b[?25hCollecting gdown==4.4.0 (from flair)\n",
      "  Downloading gdown-4.4.0.tar.gz (14 kB)\n",
      "  Installing build dependencies ... \u001b[?25l\u001b[?25hdone\n",
      "  Getting requirements to build wheel ... \u001b[?25l\u001b[?25hdone\n",
      "  Preparing metadata (pyproject.toml) ... \u001b[?25l\u001b[?25hdone\n",
      "Collecting huggingface-hub>=0.10.0 (from flair)\n",
      "  Downloading huggingface_hub-0.15.1-py3-none-any.whl (236 kB)\n",
      "\u001b[2K     \u001b[90m━━━━━━━━━━━━━━━━━━━━━━━━━━━━━━━━━━━━━━\u001b[0m \u001b[32m236.8/236.8 kB\u001b[0m \u001b[31m28.7 MB/s\u001b[0m eta \u001b[36m0:00:00\u001b[0m\n",
      "\u001b[?25hCollecting conllu>=4.0 (from flair)\n",
      "  Downloading conllu-4.5.3-py2.py3-none-any.whl (16 kB)\n",
      "Requirement already satisfied: more-itertools in /usr/local/lib/python3.10/dist-packages (from flair) (9.1.0)\n",
      "Collecting wikipedia-api (from flair)\n",
      "  Downloading Wikipedia_API-0.5.8-py3-none-any.whl (13 kB)\n",
      "Collecting pptree (from flair)\n",
      "  Downloading pptree-3.1.tar.gz (3.0 kB)\n",
      "  Preparing metadata (setup.py) ... \u001b[?25l\u001b[?25hdone\n",
      "Collecting pytorch-revgrad (from flair)\n",
      "  Downloading pytorch_revgrad-0.2.0-py3-none-any.whl (4.6 kB)\n",
      "Collecting transformer-smaller-training-vocab>=0.2.1 (from flair)\n",
      "  Downloading transformer_smaller_training_vocab-0.2.4-py3-none-any.whl (13 kB)\n",
      "Requirement already satisfied: filelock in /usr/local/lib/python3.10/dist-packages (from gdown==4.4.0->flair) (3.12.0)\n",
      "Requirement already satisfied: requests[socks] in /usr/local/lib/python3.10/dist-packages (from gdown==4.4.0->flair) (2.27.1)\n",
      "Requirement already satisfied: six in /usr/local/lib/python3.10/dist-packages (from gdown==4.4.0->flair) (1.16.0)\n",
      "Requirement already satisfied: beautifulsoup4 in /usr/local/lib/python3.10/dist-packages (from gdown==4.4.0->flair) (4.11.2)\n",
      "Requirement already satisfied: numpy in /usr/local/lib/python3.10/dist-packages (from bpemb>=0.3.2->flair) (1.22.4)\n",
      "Collecting sentencepiece (from bpemb>=0.3.2->flair)\n",
      "  Downloading sentencepiece-0.1.99-cp310-cp310-manylinux_2_17_x86_64.manylinux2014_x86_64.whl (1.3 MB)\n",
      "\u001b[2K     \u001b[90m━━━━━━━━━━━━━━━━━━━━━━━━━━━━━━━━━━━━━━━━\u001b[0m \u001b[32m1.3/1.3 MB\u001b[0m \u001b[31m86.0 MB/s\u001b[0m eta \u001b[36m0:00:00\u001b[0m\n",
      "\u001b[?25hRequirement already satisfied: wrapt<2,>=1.10 in /usr/local/lib/python3.10/dist-packages (from deprecated>=1.2.4->flair) (1.14.1)\n",
      "Requirement already satisfied: scipy>=1.7.0 in /usr/local/lib/python3.10/dist-packages (from gensim>=3.8.0->flair) (1.10.1)\n",
      "Requirement already satisfied: smart-open>=1.8.1 in /usr/local/lib/python3.10/dist-packages (from gensim>=3.8.0->flair) (6.3.0)\n",
      "Requirement already satisfied: fsspec in /usr/local/lib/python3.10/dist-packages (from huggingface-hub>=0.10.0->flair) (2023.4.0)\n",
      "Requirement already satisfied: pyyaml>=5.1 in /usr/local/lib/python3.10/dist-packages (from huggingface-hub>=0.10.0->flair) (6.0)\n",
      "Requirement already satisfied: typing-extensions>=3.7.4.3 in /usr/local/lib/python3.10/dist-packages (from huggingface-hub>=0.10.0->flair) (4.5.0)\n",
      "Requirement already satisfied: packaging>=20.9 in /usr/local/lib/python3.10/dist-packages (from huggingface-hub>=0.10.0->flair) (23.1)\n",
      "Requirement already satisfied: networkx>=2.2 in /usr/local/lib/python3.10/dist-packages (from hyperopt>=0.2.7->flair) (3.1)\n",
      "Requirement already satisfied: future in /usr/local/lib/python3.10/dist-packages (from hyperopt>=0.2.7->flair) (0.18.3)\n",
      "Requirement already satisfied: cloudpickle in /usr/local/lib/python3.10/dist-packages (from hyperopt>=0.2.7->flair) (2.2.1)\n",
      "Requirement already satisfied: py4j in /usr/local/lib/python3.10/dist-packages (from hyperopt>=0.2.7->flair) (0.10.9.7)\n",
      "Requirement already satisfied: contourpy>=1.0.1 in /usr/local/lib/python3.10/dist-packages (from matplotlib>=2.2.3->flair) (1.0.7)\n",
      "Requirement already satisfied: cycler>=0.10 in /usr/local/lib/python3.10/dist-packages (from matplotlib>=2.2.3->flair) (0.11.0)\n",
      "Requirement already satisfied: fonttools>=4.22.0 in /usr/local/lib/python3.10/dist-packages (from matplotlib>=2.2.3->flair) (4.39.3)\n",
      "Requirement already satisfied: kiwisolver>=1.0.1 in /usr/local/lib/python3.10/dist-packages (from matplotlib>=2.2.3->flair) (1.4.4)\n",
      "Requirement already satisfied: pillow>=6.2.0 in /usr/local/lib/python3.10/dist-packages (from matplotlib>=2.2.3->flair) (8.4.0)\n",
      "Requirement already satisfied: pyparsing>=2.3.1 in /usr/local/lib/python3.10/dist-packages (from matplotlib>=2.2.3->flair) (3.0.9)\n",
      "Requirement already satisfied: joblib>=1.1.1 in /usr/local/lib/python3.10/dist-packages (from scikit-learn>=0.21.3->flair) (1.2.0)\n",
      "Requirement already satisfied: threadpoolctl>=2.0.0 in /usr/local/lib/python3.10/dist-packages (from scikit-learn>=0.21.3->flair) (3.1.0)\n",
      "Requirement already satisfied: sympy in /usr/local/lib/python3.10/dist-packages (from torch!=1.8,>=1.5.0->flair) (1.11.1)\n",
      "Requirement already satisfied: jinja2 in /usr/local/lib/python3.10/dist-packages (from torch!=1.8,>=1.5.0->flair) (3.1.2)\n",
      "Requirement already satisfied: triton==2.0.0 in /usr/local/lib/python3.10/dist-packages (from torch!=1.8,>=1.5.0->flair) (2.0.0)\n",
      "Requirement already satisfied: cmake in /usr/local/lib/python3.10/dist-packages (from triton==2.0.0->torch!=1.8,>=1.5.0->flair) (3.25.2)\n",
      "Requirement already satisfied: lit in /usr/local/lib/python3.10/dist-packages (from triton==2.0.0->torch!=1.8,>=1.5.0->flair) (16.0.5)\n",
      "Collecting datasets<3.0.0,>=2.0.0 (from transformer-smaller-training-vocab>=0.2.1->flair)\n",
      "  Downloading datasets-2.13.0-py3-none-any.whl (485 kB)\n",
      "\u001b[2K     \u001b[90m━━━━━━━━━━━━━━━━━━━━━━━━━━━━━━━━━━━━━━\u001b[0m \u001b[32m485.6/485.6 kB\u001b[0m \u001b[31m55.0 MB/s\u001b[0m eta \u001b[36m0:00:00\u001b[0m\n",
      "\u001b[?25hCollecting tokenizers!=0.11.3,<0.14,>=0.11.1 (from transformers[sentencepiece]>=4.18.0->flair)\n",
      "  Downloading tokenizers-0.13.3-cp310-cp310-manylinux_2_17_x86_64.manylinux2014_x86_64.whl (7.8 MB)\n",
      "\u001b[2K     \u001b[90m━━━━━━━━━━━━━━━━━━━━━━━━━━━━━━━━━━━━━━━━\u001b[0m \u001b[32m7.8/7.8 MB\u001b[0m \u001b[31m116.3 MB/s\u001b[0m eta \u001b[36m0:00:00\u001b[0m\n",
      "\u001b[?25hCollecting safetensors>=0.3.1 (from transformers[sentencepiece]>=4.18.0->flair)\n",
      "  Downloading safetensors-0.3.1-cp310-cp310-manylinux_2_17_x86_64.manylinux2014_x86_64.whl (1.3 MB)\n",
      "\u001b[2K     \u001b[90m━━━━━━━━━━━━━━━━━━━━━━━━━━━━━━━━━━━━━━━━\u001b[0m \u001b[32m1.3/1.3 MB\u001b[0m \u001b[31m75.3 MB/s\u001b[0m eta \u001b[36m0:00:00\u001b[0m\n",
      "\u001b[?25hRequirement already satisfied: protobuf<=3.20.3 in /usr/local/lib/python3.10/dist-packages (from transformers[sentencepiece]>=4.18.0->flair) (3.20.3)\n",
      "Collecting botocore<1.30.0,>=1.29.157 (from boto3->flair)\n",
      "  Downloading botocore-1.29.157-py3-none-any.whl (10.9 MB)\n",
      "\u001b[2K     \u001b[90m━━━━━━━━━━━━━━━━━━━━━━━━━━━━━━━━━━━━━━━\u001b[0m \u001b[32m10.9/10.9 MB\u001b[0m \u001b[31m107.3 MB/s\u001b[0m eta \u001b[36m0:00:00\u001b[0m\n",
      "\u001b[?25hCollecting jmespath<2.0.0,>=0.7.1 (from boto3->flair)\n",
      "  Downloading jmespath-1.0.1-py3-none-any.whl (20 kB)\n",
      "Collecting s3transfer<0.7.0,>=0.6.0 (from boto3->flair)\n",
      "  Downloading s3transfer-0.6.1-py3-none-any.whl (79 kB)\n",
      "\u001b[2K     \u001b[90m━━━━━━━━━━━━━━━━━━━━━━━━━━━━━━━━━━━━━━━━\u001b[0m \u001b[32m79.8/79.8 kB\u001b[0m \u001b[31m12.2 MB/s\u001b[0m eta \u001b[36m0:00:00\u001b[0m\n",
      "\u001b[?25hRequirement already satisfied: wcwidth>=0.2.5 in /usr/local/lib/python3.10/dist-packages (from ftfy->flair) (0.2.6)\n",
      "Requirement already satisfied: urllib3<1.27,>=1.25.4 in /usr/local/lib/python3.10/dist-packages (from botocore<1.30.0,>=1.29.157->boto3->flair) (1.26.15)\n",
      "Requirement already satisfied: pyarrow>=8.0.0 in /usr/local/lib/python3.10/dist-packages (from datasets<3.0.0,>=2.0.0->transformer-smaller-training-vocab>=0.2.1->flair) (9.0.0)\n",
      "Collecting dill<0.3.7,>=0.3.0 (from datasets<3.0.0,>=2.0.0->transformer-smaller-training-vocab>=0.2.1->flair)\n",
      "  Downloading dill-0.3.6-py3-none-any.whl (110 kB)\n",
      "\u001b[2K     \u001b[90m━━━━━━━━━━━━━━━━━━━━━━━━━━━━━━━━━━━━━━\u001b[0m \u001b[32m110.5/110.5 kB\u001b[0m \u001b[31m14.2 MB/s\u001b[0m eta \u001b[36m0:00:00\u001b[0m\n",
      "\u001b[?25hRequirement already satisfied: pandas in /usr/local/lib/python3.10/dist-packages (from datasets<3.0.0,>=2.0.0->transformer-smaller-training-vocab>=0.2.1->flair) (1.5.3)\n",
      "Collecting xxhash (from datasets<3.0.0,>=2.0.0->transformer-smaller-training-vocab>=0.2.1->flair)\n",
      "  Downloading xxhash-3.2.0-cp310-cp310-manylinux_2_17_x86_64.manylinux2014_x86_64.whl (212 kB)\n",
      "\u001b[2K     \u001b[90m━━━━━━━━━━━━━━━━━━━━━━━━━━━━━━━━━━━━━━\u001b[0m \u001b[32m212.5/212.5 kB\u001b[0m \u001b[31m24.2 MB/s\u001b[0m eta \u001b[36m0:00:00\u001b[0m\n",
      "\u001b[?25hCollecting multiprocess (from datasets<3.0.0,>=2.0.0->transformer-smaller-training-vocab>=0.2.1->flair)\n",
      "  Downloading multiprocess-0.70.14-py310-none-any.whl (134 kB)\n",
      "\u001b[2K     \u001b[90m━━━━━━━━━━━━━━━━━━━━━━━━━━━━━━━━━━━━━━\u001b[0m \u001b[32m134.3/134.3 kB\u001b[0m \u001b[31m17.2 MB/s\u001b[0m eta \u001b[36m0:00:00\u001b[0m\n",
      "\u001b[?25hCollecting aiohttp (from datasets<3.0.0,>=2.0.0->transformer-smaller-training-vocab>=0.2.1->flair)\n",
      "  Downloading aiohttp-3.8.4-cp310-cp310-manylinux_2_17_x86_64.manylinux2014_x86_64.whl (1.0 MB)\n",
      "\u001b[2K     \u001b[90m━━━━━━━━━━━━━━━━━━━━━━━━━━━━━━━━━━━━━━━━\u001b[0m \u001b[32m1.0/1.0 MB\u001b[0m \u001b[31m41.5 MB/s\u001b[0m eta \u001b[36m0:00:00\u001b[0m\n",
      "\u001b[?25hRequirement already satisfied: certifi>=2017.4.17 in /usr/local/lib/python3.10/dist-packages (from requests[socks]->gdown==4.4.0->flair) (2022.12.7)\n",
      "Requirement already satisfied: charset-normalizer~=2.0.0 in /usr/local/lib/python3.10/dist-packages (from requests[socks]->gdown==4.4.0->flair) (2.0.12)\n",
      "Requirement already satisfied: idna<4,>=2.5 in /usr/local/lib/python3.10/dist-packages (from requests[socks]->gdown==4.4.0->flair) (3.4)\n",
      "Collecting accelerate>=0.20.2 (from transformers[sentencepiece]>=4.18.0->flair)\n",
      "  Downloading accelerate-0.20.3-py3-none-any.whl (227 kB)\n",
      "\u001b[2K     \u001b[90m━━━━━━━━━━━━━━━━━━━━━━━━━━━━━━━━━━━━━━\u001b[0m \u001b[32m227.6/227.6 kB\u001b[0m \u001b[31m16.7 MB/s\u001b[0m eta \u001b[36m0:00:00\u001b[0m\n",
      "\u001b[?25hRequirement already satisfied: soupsieve>1.2 in /usr/local/lib/python3.10/dist-packages (from beautifulsoup4->gdown==4.4.0->flair) (2.4.1)\n",
      "Requirement already satisfied: MarkupSafe>=2.0 in /usr/local/lib/python3.10/dist-packages (from jinja2->torch!=1.8,>=1.5.0->flair) (2.1.2)\n",
      "Requirement already satisfied: PySocks!=1.5.7,>=1.5.6 in /usr/local/lib/python3.10/dist-packages (from requests[socks]->gdown==4.4.0->flair) (1.7.1)\n",
      "Requirement already satisfied: mpmath>=0.19 in /usr/local/lib/python3.10/dist-packages (from sympy->torch!=1.8,>=1.5.0->flair) (1.3.0)\n",
      "Requirement already satisfied: psutil in /usr/local/lib/python3.10/dist-packages (from accelerate>=0.20.2->transformers[sentencepiece]>=4.18.0->flair) (5.9.5)\n",
      "Requirement already satisfied: attrs>=17.3.0 in /usr/local/lib/python3.10/dist-packages (from aiohttp->datasets<3.0.0,>=2.0.0->transformer-smaller-training-vocab>=0.2.1->flair) (23.1.0)\n",
      "Collecting multidict<7.0,>=4.5 (from aiohttp->datasets<3.0.0,>=2.0.0->transformer-smaller-training-vocab>=0.2.1->flair)\n",
      "  Downloading multidict-6.0.4-cp310-cp310-manylinux_2_17_x86_64.manylinux2014_x86_64.whl (114 kB)\n",
      "\u001b[2K     \u001b[90m━━━━━━━━━━━━━━━━━━━━━━━━━━━━━━━━━━━━━━\u001b[0m \u001b[32m114.5/114.5 kB\u001b[0m \u001b[31m16.1 MB/s\u001b[0m eta \u001b[36m0:00:00\u001b[0m\n",
      "\u001b[?25hCollecting async-timeout<5.0,>=4.0.0a3 (from aiohttp->datasets<3.0.0,>=2.0.0->transformer-smaller-training-vocab>=0.2.1->flair)\n",
      "  Downloading async_timeout-4.0.2-py3-none-any.whl (5.8 kB)\n",
      "Collecting yarl<2.0,>=1.0 (from aiohttp->datasets<3.0.0,>=2.0.0->transformer-smaller-training-vocab>=0.2.1->flair)\n",
      "  Downloading yarl-1.9.2-cp310-cp310-manylinux_2_17_x86_64.manylinux2014_x86_64.whl (268 kB)\n",
      "\u001b[2K     \u001b[90m━━━━━━━━━━━━━━━━━━━━━━━━━━━━━━━━━━━━━━\u001b[0m \u001b[32m268.8/268.8 kB\u001b[0m \u001b[31m32.8 MB/s\u001b[0m eta \u001b[36m0:00:00\u001b[0m\n",
      "\u001b[?25hCollecting frozenlist>=1.1.1 (from aiohttp->datasets<3.0.0,>=2.0.0->transformer-smaller-training-vocab>=0.2.1->flair)\n",
      "  Downloading frozenlist-1.3.3-cp310-cp310-manylinux_2_5_x86_64.manylinux1_x86_64.manylinux_2_17_x86_64.manylinux2014_x86_64.whl (149 kB)\n",
      "\u001b[2K     \u001b[90m━━━━━━━━━━━━━━━━━━━━━━━━━━━━━━━━━━━━━━\u001b[0m \u001b[32m149.6/149.6 kB\u001b[0m \u001b[31m21.0 MB/s\u001b[0m eta \u001b[36m0:00:00\u001b[0m\n",
      "\u001b[?25hCollecting aiosignal>=1.1.2 (from aiohttp->datasets<3.0.0,>=2.0.0->transformer-smaller-training-vocab>=0.2.1->flair)\n",
      "  Downloading aiosignal-1.3.1-py3-none-any.whl (7.6 kB)\n",
      "Requirement already satisfied: pytz>=2020.1 in /usr/local/lib/python3.10/dist-packages (from pandas->datasets<3.0.0,>=2.0.0->transformer-smaller-training-vocab>=0.2.1->flair) (2022.7.1)\n",
      "Building wheels for collected packages: gdown, mpld3, sqlitedict, langdetect, pptree\n",
      "  Building wheel for gdown (pyproject.toml) ... \u001b[?25l\u001b[?25hdone\n",
      "  Created wheel for gdown: filename=gdown-4.4.0-py3-none-any.whl size=14759 sha256=038a1964805501980d08f5a5ec195ebc43b96d38f668d433e6fc4ad54f98ac93\n",
      "  Stored in directory: /root/.cache/pip/wheels/03/0b/3f/6ddf67a417a5b400b213b0bb772a50276c199a386b12c06bfc\n",
      "  Building wheel for mpld3 (setup.py) ... \u001b[?25l\u001b[?25hdone\n",
      "  Created wheel for mpld3: filename=mpld3-0.3-py3-none-any.whl size=116685 sha256=6e41235ec9e7a12381088b024f6591ca6ad07817e7396c21312d5ad11126b4f1\n",
      "  Stored in directory: /root/.cache/pip/wheels/9c/92/f7/45d9aac5dcfb1c2a1761a272365599cc7ba1050ce211a3fd9a\n",
      "  Building wheel for sqlitedict (setup.py) ... \u001b[?25l\u001b[?25hdone\n",
      "  Created wheel for sqlitedict: filename=sqlitedict-2.1.0-py3-none-any.whl size=16863 sha256=5bf7c239138037707fd93e4c8aa97c445636bb5b4999d23305ec162ec80a455f\n",
      "  Stored in directory: /root/.cache/pip/wheels/79/d6/e7/304e0e6cb2221022c26d8161f7c23cd4f259a9e41e8bbcfabd\n",
      "  Building wheel for langdetect (setup.py) ... \u001b[?25l\u001b[?25hdone\n",
      "  Created wheel for langdetect: filename=langdetect-1.0.9-py3-none-any.whl size=993224 sha256=17af9fdffabf4b9ef72272bcf1fe9259276a2c21e29f63372e7dae80019b7e70\n",
      "  Stored in directory: /root/.cache/pip/wheels/95/03/7d/59ea870c70ce4e5a370638b5462a7711ab78fba2f655d05106\n",
      "  Building wheel for pptree (setup.py) ... \u001b[?25l\u001b[?25hdone\n",
      "  Created wheel for pptree: filename=pptree-3.1-py3-none-any.whl size=4609 sha256=32c76fa74814ade225d5d957eb2e8c0fa3ca5e2fbd41afae4b8c0630d782c39f\n",
      "  Stored in directory: /root/.cache/pip/wheels/9f/b6/0e/6f26eb9e6eb53ff2107a7888d72b5a6a597593956113037828\n",
      "Successfully built gdown mpld3 sqlitedict langdetect pptree\n",
      "Installing collected packages: tokenizers, sqlitedict, sentencepiece, safetensors, pptree, mpld3, janome, xxhash, segtok, multidict, langdetect, jmespath, ftfy, frozenlist, dill, deprecated, conllu, async-timeout, yarl, wikipedia-api, multiprocess, huggingface-hub, botocore, aiosignal, transformers, s3transfer, gdown, bpemb, aiohttp, boto3, datasets, accelerate, transformer-smaller-training-vocab, pytorch-revgrad, flair\n",
      "  Attempting uninstall: gdown\n",
      "    Found existing installation: gdown 4.6.6\n",
      "    Uninstalling gdown-4.6.6:\n",
      "      Successfully uninstalled gdown-4.6.6\n",
      "Successfully installed accelerate-0.20.3 aiohttp-3.8.4 aiosignal-1.3.1 async-timeout-4.0.2 boto3-1.26.157 botocore-1.29.157 bpemb-0.3.4 conllu-4.5.3 datasets-2.13.0 deprecated-1.2.14 dill-0.3.6 flair-0.12.2 frozenlist-1.3.3 ftfy-6.1.1 gdown-4.4.0 huggingface-hub-0.15.1 janome-0.4.2 jmespath-1.0.1 langdetect-1.0.9 mpld3-0.3 multidict-6.0.4 multiprocess-0.70.14 pptree-3.1 pytorch-revgrad-0.2.0 s3transfer-0.6.1 safetensors-0.3.1 segtok-1.5.11 sentencepiece-0.1.99 sqlitedict-2.1.0 tokenizers-0.13.3 transformer-smaller-training-vocab-0.2.4 transformers-4.30.2 wikipedia-api-0.5.8 xxhash-3.2.0 yarl-1.9.2\n"
     ]
    }
   ],
   "source": [
    "!pip install flair"
   ]
  },
  {
   "cell_type": "code",
   "execution_count": null,
   "metadata": {
    "id": "zZmy_bh8bT5Q"
   },
   "outputs": [],
   "source": [
    "from flair.embeddings import TransformerWordEmbeddings\n",
    "from flair.models import SequenceTagger\n",
    "from flair.trainers import ModelTrainer"
   ]
  },
  {
   "cell_type": "code",
   "execution_count": null,
   "metadata": {
    "colab": {
     "base_uri": "https://localhost:8080/"
    },
    "id": "BE93wfCrbU4h",
    "outputId": "4bc0a95f-f5c3-44fc-c86d-733348f76c8b"
   },
   "outputs": [
    {
     "name": "stdout",
     "output_type": "stream",
     "text": [
      "Mounted at /content/drive\n"
     ]
    }
   ],
   "source": [
    "from google.colab import drive\n",
    "drive.mount('/content/drive')"
   ]
  },
  {
   "cell_type": "code",
   "execution_count": null,
   "metadata": {
    "id": "ZgvTd3w6bYDP"
   },
   "outputs": [],
   "source": [
    "label_type = 'ner'"
   ]
  },
  {
   "cell_type": "code",
   "execution_count": null,
   "metadata": {
    "id": "B3AtA40ObawH"
   },
   "outputs": [],
   "source": [
    "columns={0:'text',1:'pos',2:'ner'}"
   ]
  },
  {
   "cell_type": "code",
   "execution_count": null,
   "metadata": {
    "id": "TmH83LK_bfS0"
   },
   "outputs": [],
   "source": [
    "datafolder='/content/drive/MyDrive/Subinay/7_tags/'\n",
    "from flair.datasets import ColumnCorpus\n",
    "from flair.data import Corpus"
   ]
  },
  {
   "cell_type": "code",
   "execution_count": null,
   "metadata": {
    "colab": {
     "base_uri": "https://localhost:8080/"
    },
    "id": "SVKl8d_KbiIq",
    "outputId": "e09bf065-0732-41ac-8809-930384cdfccd"
   },
   "outputs": [
    {
     "name": "stdout",
     "output_type": "stream",
     "text": [
      "2023-06-21 16:15:46,326 Reading data from /content/drive/MyDrive/Subinay/7_tags\n",
      "2023-06-21 16:15:46,329 Train: /content/drive/MyDrive/Subinay/7_tags/tag_sequence_without_pseudo_flair.txt\n",
      "2023-06-21 16:15:46,335 Dev: /content/drive/MyDrive/Subinay/7_tags/tag_sequence_dev_8tags_flair.txt\n",
      "2023-06-21 16:15:46,337 Test: /content/drive/MyDrive/Subinay/7_tags/tag_sequence_test_7tags_flair.txt\n"
     ]
    }
   ],
   "source": [
    "corpus: Corpus = ColumnCorpus(datafolder, columns,\n",
    "                              train_file='tag_sequence_without_pseudo_flair.txt',test_file='tag_sequence_test_7tags_flair.txt',dev_file='tag_sequence_dev_8tags_flair.txt'\n",
    "                  )"
   ]
  },
  {
   "cell_type": "code",
   "execution_count": null,
   "metadata": {
    "colab": {
     "base_uri": "https://localhost:8080/"
    },
    "id": "CfS5SrfXb7Rv",
    "outputId": "3bdfbdc3-faec-47c0-e88d-33a134a8527f"
   },
   "outputs": [
    {
     "name": "stdout",
     "output_type": "stream",
     "text": [
      "2023-06-21 16:15:50,368 Computing label dictionary. Progress:\n"
     ]
    },
    {
     "name": "stderr",
     "output_type": "stream",
     "text": [
      "262it [00:00, 5520.57it/s]"
     ]
    },
    {
     "name": "stdout",
     "output_type": "stream",
     "text": [
      "2023-06-21 16:15:50,427 Dictionary created for label 'ner' with 8 values: Otag (seen 4808 times), homicide (seen 1043 times), riot (seen 797 times), assault (seen 734 times), evidence (seen 580 times), wittest (seen 560 times), imprisonment (seen 509 times), expwittest (seen 502 times)\n"
     ]
    },
    {
     "name": "stderr",
     "output_type": "stream",
     "text": [
      "\n"
     ]
    }
   ],
   "source": [
    "label_dict = corpus.make_label_dictionary(label_type=label_type, add_unk=False)"
   ]
  },
  {
   "cell_type": "code",
   "execution_count": null,
   "metadata": {
    "colab": {
     "base_uri": "https://localhost:8080/"
    },
    "id": "plokzmD0b7WA",
    "outputId": "5e75c150-d15a-4af2-e9dc-f419a1fdda38"
   },
   "outputs": [
    {
     "name": "stdout",
     "output_type": "stream",
     "text": [
      "Dictionary with 8 tags: Otag, evidence, riot, assault, wittest, imprisonment, expwittest, homicide\n"
     ]
    }
   ],
   "source": [
    "print(label_dict)"
   ]
  },
  {
   "cell_type": "code",
   "execution_count": null,
   "metadata": {
    "colab": {
     "base_uri": "https://localhost:8080/",
     "height": 145,
     "referenced_widgets": [
      "b0083d5e540b49639f318402055353e6",
      "b61e67d8b8224df9bd02eb36510dda88",
      "1e282d67e74f48a9a13e012c36bee5e5",
      "04813f503a8e4fc99707c2ea736b4f2e",
      "7a3cb7821e664466a59b0ad40536686d",
      "0560dcf1697e491f93023b3607b9dab5",
      "f2c64392fb9b41bfb96a772ee79e67af",
      "605fa811421b421ca330da3e3fe97199",
      "41e53bce36b74d4f9dc2cfa19d1a36cf",
      "3f0416c87bc14baf88ec573d64d31716",
      "c2720d2f57424c07babe65efeef153c0",
      "28e00d5e7ace44dd8d979d20b97ad402",
      "6dd9579d2a4a45358792d54842896acc",
      "b5c34666f9d54436a2a623a2dd6d7bfb",
      "d7e79bf7276c49d2a2166d7e2d8297eb",
      "93a258a9bae4462fa0559651761d470f",
      "fba7101afaab4ef787f3e794cdee0011",
      "2ddaa4921c9547518fe8f2121aca7e5a",
      "3ee880ed9ac04911beafc6724c79c552",
      "6af89b68903341d5992cfc585742c0d5",
      "85aa66409bcc4cfb988c69fbd22942cf",
      "e32874e92469479d93680117fdfd5df8",
      "414003fc1de6418a8fd3966d4f38f981",
      "5caee092a80246299c6e4fbbaa2b2ac3",
      "59b21260bb3f4dd8aef1b71b1ce7f1c4",
      "721768aedee94b779687cbd64c3ade7a",
      "22958f1c6bfa43f5ba0d182065a35b40",
      "d8f02a65d7bf4fdbbf0628823d6e841f",
      "981b9bcde6474ed5a53c5ac76f34e365",
      "5a908428b0b34fe4a112b1e2abec8223",
      "952d446fcab648128eea0f69269803db",
      "d68f810ae5254441a36d5f7bef97f3ca",
      "1b202a18d40d44b391bfc0c08a838fef",
      "9d2e7a1618d640669df1a788e60ca2ef",
      "e4dcf7759ff745cd881a3c6873f0ba6f",
      "522e221d031f4eb8bc66836532c22952",
      "7c07fbfedda64103860d6a144332b9e1",
      "adc6a0cb2c00429a8d5c4b5fbec65c52",
      "a7f57cad836a4224a550931f4f1f364d",
      "919b77c1aaf54c8381d3322907e2739b",
      "2cf4f1ffeb7c46ecba13d1dd06869b01",
      "015aca89d1614410b09713baf5c131fd",
      "785ce4b1fc104b618de5fa519fa8c511",
      "e828210e24634c07a516f6631e0b5967"
     ]
    },
    "id": "NH4uGsjDb_R0",
    "outputId": "5294f3c3-7f8b-42eb-f4c9-ef57c890522a"
   },
   "outputs": [
    {
     "data": {
      "application/vnd.jupyter.widget-view+json": {
       "model_id": "b0083d5e540b49639f318402055353e6",
       "version_major": 2,
       "version_minor": 0
      },
      "text/plain": [
       "Downloading (…)lve/main/config.json:   0%|          | 0.00/616 [00:00<?, ?B/s]"
      ]
     },
     "metadata": {},
     "output_type": "display_data"
    },
    {
     "data": {
      "application/vnd.jupyter.widget-view+json": {
       "model_id": "28e00d5e7ace44dd8d979d20b97ad402",
       "version_major": 2,
       "version_minor": 0
      },
      "text/plain": [
       "Downloading (…)tencepiece.bpe.model:   0%|          | 0.00/5.07M [00:00<?, ?B/s]"
      ]
     },
     "metadata": {},
     "output_type": "display_data"
    },
    {
     "data": {
      "application/vnd.jupyter.widget-view+json": {
       "model_id": "414003fc1de6418a8fd3966d4f38f981",
       "version_major": 2,
       "version_minor": 0
      },
      "text/plain": [
       "Downloading (…)/main/tokenizer.json:   0%|          | 0.00/9.10M [00:00<?, ?B/s]"
      ]
     },
     "metadata": {},
     "output_type": "display_data"
    },
    {
     "data": {
      "application/vnd.jupyter.widget-view+json": {
       "model_id": "9d2e7a1618d640669df1a788e60ca2ef",
       "version_major": 2,
       "version_minor": 0
      },
      "text/plain": [
       "Downloading model.safetensors:   0%|          | 0.00/2.24G [00:00<?, ?B/s]"
      ]
     },
     "metadata": {},
     "output_type": "display_data"
    }
   ],
   "source": [
    "embeddings = TransformerWordEmbeddings(model='xlm-roberta-large',\n",
    "                                       layers=\"-1\",\n",
    "                                       subtoken_pooling=\"first\",\n",
    "                                       fine_tune=True,\n",
    "                                       use_context=True,\n",
    "                                       )"
   ]
  },
  {
   "cell_type": "code",
   "execution_count": null,
   "metadata": {
    "colab": {
     "base_uri": "https://localhost:8080/"
    },
    "id": "TQqFlBotcFwd",
    "outputId": "a9808c48-6c45-49a7-ee10-b81d99667118"
   },
   "outputs": [
    {
     "name": "stdout",
     "output_type": "stream",
     "text": [
      "2023-06-19 06:45:25,497 SequenceTagger predicts: Dictionary with 8 tags: Otag, evidence, riot, assault, wittest, imprisonment, expwittest, homicide\n"
     ]
    }
   ],
   "source": [
    "tagger = SequenceTagger(hidden_size=256,\n",
    "                        embeddings=embeddings,\n",
    "                        tag_dictionary=label_dict,\n",
    "                        tag_type='ner',\n",
    "                        use_crf=False,\n",
    "                        use_rnn=False,\n",
    "                        reproject_embeddings=False,\n",
    "                        )"
   ]
  },
  {
   "cell_type": "code",
   "execution_count": null,
   "metadata": {
    "id": "mwIsNoakcIoS"
   },
   "outputs": [],
   "source": [
    "trainer = ModelTrainer(tagger, corpus)"
   ]
  },
  {
   "cell_type": "code",
   "execution_count": null,
   "metadata": {
    "colab": {
     "base_uri": "https://localhost:8080/"
    },
    "id": "kHhAwqmnb_VZ",
    "outputId": "9e80a8f7-b0e2-45d0-bad8-17d7f43f2aaa"
   },
   "outputs": [
    {
     "name": "stdout",
     "output_type": "stream",
     "text": [
      "2023-06-19 07:41:11,318 ----------------------------------------------------------------------------------------------------\n",
      "2023-06-19 07:41:11,323 Model: \"SequenceTagger(\n",
      "  (embeddings): TransformerWordEmbeddings(\n",
      "    (model): XLMRobertaModel(\n",
      "      (embeddings): XLMRobertaEmbeddings(\n",
      "        (word_embeddings): Embedding(250003, 1024)\n",
      "        (position_embeddings): Embedding(514, 1024, padding_idx=1)\n",
      "        (token_type_embeddings): Embedding(1, 1024)\n",
      "        (LayerNorm): LayerNorm((1024,), eps=1e-05, elementwise_affine=True)\n",
      "        (dropout): Dropout(p=0.1, inplace=False)\n",
      "      )\n",
      "      (encoder): XLMRobertaEncoder(\n",
      "        (layer): ModuleList(\n",
      "          (0-23): 24 x XLMRobertaLayer(\n",
      "            (attention): XLMRobertaAttention(\n",
      "              (self): XLMRobertaSelfAttention(\n",
      "                (query): Linear(in_features=1024, out_features=1024, bias=True)\n",
      "                (key): Linear(in_features=1024, out_features=1024, bias=True)\n",
      "                (value): Linear(in_features=1024, out_features=1024, bias=True)\n",
      "                (dropout): Dropout(p=0.1, inplace=False)\n",
      "              )\n",
      "              (output): XLMRobertaSelfOutput(\n",
      "                (dense): Linear(in_features=1024, out_features=1024, bias=True)\n",
      "                (LayerNorm): LayerNorm((1024,), eps=1e-05, elementwise_affine=True)\n",
      "                (dropout): Dropout(p=0.1, inplace=False)\n",
      "              )\n",
      "            )\n",
      "            (intermediate): XLMRobertaIntermediate(\n",
      "              (dense): Linear(in_features=1024, out_features=4096, bias=True)\n",
      "              (intermediate_act_fn): GELUActivation()\n",
      "            )\n",
      "            (output): XLMRobertaOutput(\n",
      "              (dense): Linear(in_features=4096, out_features=1024, bias=True)\n",
      "              (LayerNorm): LayerNorm((1024,), eps=1e-05, elementwise_affine=True)\n",
      "              (dropout): Dropout(p=0.1, inplace=False)\n",
      "            )\n",
      "          )\n",
      "        )\n",
      "      )\n",
      "      (pooler): XLMRobertaPooler(\n",
      "        (dense): Linear(in_features=1024, out_features=1024, bias=True)\n",
      "        (activation): Tanh()\n",
      "      )\n",
      "    )\n",
      "  )\n",
      "  (locked_dropout): LockedDropout(p=0.5)\n",
      "  (linear): Linear(in_features=1024, out_features=8, bias=True)\n",
      "  (loss_function): CrossEntropyLoss()\n",
      ")\"\n",
      "2023-06-19 07:41:11,325 ----------------------------------------------------------------------------------------------------\n",
      "2023-06-19 07:41:11,330 Corpus: \"Corpus: 250 train + 10 dev + 738 test sentences\"\n",
      "2023-06-19 07:41:11,332 ----------------------------------------------------------------------------------------------------\n",
      "2023-06-19 07:41:11,334 Parameters:\n",
      "2023-06-19 07:41:11,335  - learning_rate: \"0.000005\"\n",
      "2023-06-19 07:41:11,337  - mini_batch_size: \"3\"\n",
      "2023-06-19 07:41:11,338  - patience: \"3\"\n",
      "2023-06-19 07:41:11,340  - anneal_factor: \"0.5\"\n",
      "2023-06-19 07:41:11,341  - max_epochs: \"10\"\n",
      "2023-06-19 07:41:11,342  - shuffle: \"True\"\n",
      "2023-06-19 07:41:11,343  - train_with_dev: \"False\"\n",
      "2023-06-19 07:41:11,344  - batch_growth_annealing: \"False\"\n",
      "2023-06-19 07:41:11,345 ----------------------------------------------------------------------------------------------------\n",
      "2023-06-19 07:41:11,347 Model training base path: \"/content/drive/MyDrive/Subinay/5_riot_10_evidence_gpt2_pr\"\n",
      "2023-06-19 07:41:11,348 ----------------------------------------------------------------------------------------------------\n",
      "2023-06-19 07:41:11,349 Device: cuda:0\n",
      "2023-06-19 07:41:11,350 ----------------------------------------------------------------------------------------------------\n",
      "2023-06-19 07:41:11,351 Embeddings storage mode: none\n",
      "2023-06-19 07:41:11,352 ----------------------------------------------------------------------------------------------------\n",
      "2023-06-19 07:41:16,086 epoch 1 - iter 8/84 - loss 0.31726623 - time (sec): 4.73 - samples/sec: 211.96 - lr: 0.000000\n",
      "2023-06-19 07:41:21,041 epoch 1 - iter 16/84 - loss 0.30737134 - time (sec): 9.69 - samples/sec: 191.48 - lr: 0.000001\n",
      "2023-06-19 07:41:25,405 epoch 1 - iter 24/84 - loss 0.24430214 - time (sec): 14.05 - samples/sec: 168.52 - lr: 0.000001\n",
      "2023-06-19 07:41:29,614 epoch 1 - iter 32/84 - loss 0.23215584 - time (sec): 18.26 - samples/sec: 159.69 - lr: 0.000002\n",
      "2023-06-19 07:41:34,119 epoch 1 - iter 40/84 - loss 0.23991973 - time (sec): 22.77 - samples/sec: 171.75 - lr: 0.000002\n",
      "2023-06-19 07:41:38,473 epoch 1 - iter 48/84 - loss 0.23565186 - time (sec): 27.12 - samples/sec: 169.14 - lr: 0.000003\n",
      "2023-06-19 07:41:43,763 epoch 1 - iter 56/84 - loss 0.21581762 - time (sec): 32.41 - samples/sec: 167.54 - lr: 0.000003\n",
      "2023-06-19 07:41:48,801 epoch 1 - iter 64/84 - loss 0.19683775 - time (sec): 37.45 - samples/sec: 172.70 - lr: 0.000004\n",
      "2023-06-19 07:41:53,235 epoch 1 - iter 72/84 - loss 0.22186021 - time (sec): 41.88 - samples/sec: 175.09 - lr: 0.000004\n",
      "2023-06-19 07:41:57,649 epoch 1 - iter 80/84 - loss 0.20624329 - time (sec): 46.30 - samples/sec: 175.22 - lr: 0.000005\n",
      "2023-06-19 07:41:59,662 ----------------------------------------------------------------------------------------------------\n",
      "2023-06-19 07:41:59,669 EPOCH 1 done: loss 0.1971 - lr 0.000005\n"
     ]
    },
    {
     "name": "stderr",
     "output_type": "stream",
     "text": [
      "100%|██████████| 4/4 [00:00<00:00,  5.60it/s]"
     ]
    },
    {
     "name": "stdout",
     "output_type": "stream",
     "text": [
      "2023-06-19 07:42:00,398 Evaluating as a multi-label problem: False\n",
      "2023-06-19 07:42:00,416 DEV : loss 1.5980676412582397 - f1-score (micro avg)  0.6405\n",
      "2023-06-19 07:42:00,423 ----------------------------------------------------------------------------------------------------\n"
     ]
    },
    {
     "name": "stderr",
     "output_type": "stream",
     "text": [
      "\n"
     ]
    },
    {
     "name": "stdout",
     "output_type": "stream",
     "text": [
      "2023-06-19 07:42:04,769 epoch 2 - iter 8/84 - loss 0.12862250 - time (sec): 4.34 - samples/sec: 146.88 - lr: 0.000005\n",
      "2023-06-19 07:42:09,694 epoch 2 - iter 16/84 - loss 0.17565832 - time (sec): 9.27 - samples/sec: 137.78 - lr: 0.000005\n",
      "2023-06-19 07:42:14,416 epoch 2 - iter 24/84 - loss 0.20688917 - time (sec): 13.99 - samples/sec: 149.25 - lr: 0.000005\n",
      "2023-06-19 07:42:19,372 epoch 2 - iter 32/84 - loss 0.18921568 - time (sec): 18.95 - samples/sec: 157.18 - lr: 0.000005\n",
      "2023-06-19 07:42:24,078 epoch 2 - iter 40/84 - loss 0.19339085 - time (sec): 23.65 - samples/sec: 160.96 - lr: 0.000005\n",
      "2023-06-19 07:42:29,713 epoch 2 - iter 48/84 - loss 0.19750709 - time (sec): 29.29 - samples/sec: 161.95 - lr: 0.000005\n",
      "2023-06-19 07:42:34,581 epoch 2 - iter 56/84 - loss 0.24840675 - time (sec): 34.16 - samples/sec: 165.48 - lr: 0.000005\n",
      "2023-06-19 07:42:39,378 epoch 2 - iter 64/84 - loss 0.22591290 - time (sec): 38.95 - samples/sec: 167.72 - lr: 0.000005\n",
      "2023-06-19 07:42:44,227 epoch 2 - iter 72/84 - loss 0.31418048 - time (sec): 43.80 - samples/sec: 169.31 - lr: 0.000005\n",
      "2023-06-19 07:42:48,957 epoch 2 - iter 80/84 - loss 0.32098072 - time (sec): 48.53 - samples/sec: 170.42 - lr: 0.000004\n",
      "2023-06-19 07:42:51,431 ----------------------------------------------------------------------------------------------------\n",
      "2023-06-19 07:42:51,435 EPOCH 2 done: loss 0.3177 - lr 0.000004\n"
     ]
    },
    {
     "name": "stderr",
     "output_type": "stream",
     "text": [
      "100%|██████████| 4/4 [00:00<00:00,  5.39it/s]"
     ]
    },
    {
     "name": "stdout",
     "output_type": "stream",
     "text": [
      "2023-06-19 07:42:52,193 Evaluating as a multi-label problem: False\n",
      "2023-06-19 07:42:52,208 DEV : loss 1.4579026699066162 - f1-score (micro avg)  0.5982\n",
      "2023-06-19 07:42:52,214 ----------------------------------------------------------------------------------------------------\n"
     ]
    },
    {
     "name": "stderr",
     "output_type": "stream",
     "text": [
      "\n"
     ]
    },
    {
     "name": "stdout",
     "output_type": "stream",
     "text": [
      "2023-06-19 07:42:57,214 epoch 3 - iter 8/84 - loss 0.16670386 - time (sec): 5.00 - samples/sec: 135.46 - lr: 0.000004\n",
      "2023-06-19 07:43:02,086 epoch 3 - iter 16/84 - loss 0.36721396 - time (sec): 9.87 - samples/sec: 162.41 - lr: 0.000004\n",
      "2023-06-19 07:43:07,361 epoch 3 - iter 24/84 - loss 0.30524350 - time (sec): 15.15 - samples/sec: 160.45 - lr: 0.000004\n",
      "2023-06-19 07:43:11,994 epoch 3 - iter 32/84 - loss 0.27680288 - time (sec): 19.78 - samples/sec: 156.03 - lr: 0.000004\n",
      "2023-06-19 07:43:16,253 epoch 3 - iter 40/84 - loss 0.24746395 - time (sec): 24.04 - samples/sec: 158.50 - lr: 0.000004\n",
      "2023-06-19 07:43:21,398 epoch 3 - iter 48/84 - loss 0.22589548 - time (sec): 29.18 - samples/sec: 164.52 - lr: 0.000004\n",
      "2023-06-19 07:43:26,736 epoch 3 - iter 56/84 - loss 0.25036733 - time (sec): 34.52 - samples/sec: 161.97 - lr: 0.000004\n",
      "2023-06-19 07:43:31,864 epoch 3 - iter 64/84 - loss 0.25058364 - time (sec): 39.65 - samples/sec: 158.77 - lr: 0.000004\n",
      "2023-06-19 07:43:36,753 epoch 3 - iter 72/84 - loss 0.23289747 - time (sec): 44.54 - samples/sec: 162.58 - lr: 0.000004\n",
      "2023-06-19 07:43:41,769 epoch 3 - iter 80/84 - loss 0.22727440 - time (sec): 49.55 - samples/sec: 161.50 - lr: 0.000004\n",
      "2023-06-19 07:43:44,151 ----------------------------------------------------------------------------------------------------\n",
      "2023-06-19 07:43:44,156 EPOCH 3 done: loss 0.2354 - lr 0.000004\n"
     ]
    },
    {
     "name": "stderr",
     "output_type": "stream",
     "text": [
      "100%|██████████| 4/4 [00:00<00:00,  5.33it/s]"
     ]
    },
    {
     "name": "stdout",
     "output_type": "stream",
     "text": [
      "2023-06-19 07:43:44,927 Evaluating as a multi-label problem: False\n",
      "2023-06-19 07:43:44,951 DEV : loss 1.6676369905471802 - f1-score (micro avg)  0.6435\n",
      "2023-06-19 07:43:44,964 ----------------------------------------------------------------------------------------------------\n"
     ]
    },
    {
     "name": "stderr",
     "output_type": "stream",
     "text": [
      "\n"
     ]
    },
    {
     "name": "stdout",
     "output_type": "stream",
     "text": [
      "2023-06-19 07:43:49,538 epoch 4 - iter 8/84 - loss 0.41428849 - time (sec): 4.57 - samples/sec: 186.15 - lr: 0.000004\n",
      "2023-06-19 07:43:54,795 epoch 4 - iter 16/84 - loss 0.29118382 - time (sec): 9.83 - samples/sec: 174.70 - lr: 0.000004\n",
      "2023-06-19 07:43:59,117 epoch 4 - iter 24/84 - loss 0.28033894 - time (sec): 14.15 - samples/sec: 168.47 - lr: 0.000004\n",
      "2023-06-19 07:44:03,842 epoch 4 - iter 32/84 - loss 0.28651121 - time (sec): 18.87 - samples/sec: 171.71 - lr: 0.000004\n",
      "2023-06-19 07:44:08,860 epoch 4 - iter 40/84 - loss 0.25756190 - time (sec): 23.89 - samples/sec: 167.08 - lr: 0.000004\n",
      "2023-06-19 07:44:13,884 epoch 4 - iter 48/84 - loss 0.23791647 - time (sec): 28.92 - samples/sec: 168.65 - lr: 0.000004\n",
      "2023-06-19 07:44:19,079 epoch 4 - iter 56/84 - loss 0.26123425 - time (sec): 34.11 - samples/sec: 168.59 - lr: 0.000004\n",
      "2023-06-19 07:44:23,842 epoch 4 - iter 64/84 - loss 0.25268792 - time (sec): 38.87 - samples/sec: 173.14 - lr: 0.000003\n",
      "2023-06-19 07:44:28,688 epoch 4 - iter 72/84 - loss 0.24151175 - time (sec): 43.72 - samples/sec: 169.96 - lr: 0.000003\n",
      "2023-06-19 07:44:33,688 epoch 4 - iter 80/84 - loss 0.23146268 - time (sec): 48.72 - samples/sec: 168.24 - lr: 0.000003\n",
      "2023-06-19 07:44:36,142 ----------------------------------------------------------------------------------------------------\n",
      "2023-06-19 07:44:36,145 EPOCH 4 done: loss 0.2282 - lr 0.000003\n"
     ]
    },
    {
     "name": "stderr",
     "output_type": "stream",
     "text": [
      "100%|██████████| 4/4 [00:00<00:00,  5.38it/s]"
     ]
    },
    {
     "name": "stdout",
     "output_type": "stream",
     "text": [
      "2023-06-19 07:44:36,905 Evaluating as a multi-label problem: False\n",
      "2023-06-19 07:44:36,922 DEV : loss 1.727426528930664 - f1-score (micro avg)  0.6526\n",
      "2023-06-19 07:44:36,932 ----------------------------------------------------------------------------------------------------\n"
     ]
    },
    {
     "name": "stderr",
     "output_type": "stream",
     "text": [
      "\n"
     ]
    },
    {
     "name": "stdout",
     "output_type": "stream",
     "text": [
      "2023-06-19 07:44:41,451 epoch 5 - iter 8/84 - loss 0.15100163 - time (sec): 4.51 - samples/sec: 206.22 - lr: 0.000003\n",
      "2023-06-19 07:44:46,819 epoch 5 - iter 16/84 - loss 0.17172511 - time (sec): 9.88 - samples/sec: 181.82 - lr: 0.000003\n",
      "2023-06-19 07:44:51,851 epoch 5 - iter 24/84 - loss 0.14835463 - time (sec): 14.92 - samples/sec: 166.47 - lr: 0.000003\n",
      "2023-06-19 07:44:56,789 epoch 5 - iter 32/84 - loss 0.13302658 - time (sec): 19.85 - samples/sec: 163.50 - lr: 0.000003\n",
      "2023-06-19 07:45:02,100 epoch 5 - iter 40/84 - loss 0.15443712 - time (sec): 25.16 - samples/sec: 165.99 - lr: 0.000003\n",
      "2023-06-19 07:45:07,124 epoch 5 - iter 48/84 - loss 0.14971003 - time (sec): 30.19 - samples/sec: 159.93 - lr: 0.000003\n",
      "2023-06-19 07:45:11,944 epoch 5 - iter 56/84 - loss 0.16529490 - time (sec): 35.01 - samples/sec: 158.91 - lr: 0.000003\n",
      "2023-06-19 07:45:16,882 epoch 5 - iter 64/84 - loss 0.21230897 - time (sec): 39.95 - samples/sec: 164.72 - lr: 0.000003\n",
      "2023-06-19 07:45:22,163 epoch 5 - iter 72/84 - loss 0.19911069 - time (sec): 45.23 - samples/sec: 161.89 - lr: 0.000003\n",
      "2023-06-19 07:45:26,817 epoch 5 - iter 80/84 - loss 0.20484780 - time (sec): 49.88 - samples/sec: 163.49 - lr: 0.000003\n",
      "2023-06-19 07:45:29,163 ----------------------------------------------------------------------------------------------------\n",
      "2023-06-19 07:45:29,164 EPOCH 5 done: loss 0.2032 - lr 0.000003\n"
     ]
    },
    {
     "name": "stderr",
     "output_type": "stream",
     "text": [
      "100%|██████████| 4/4 [00:00<00:00,  5.35it/s]"
     ]
    },
    {
     "name": "stdout",
     "output_type": "stream",
     "text": [
      "2023-06-19 07:45:29,929 Evaluating as a multi-label problem: False\n",
      "2023-06-19 07:45:29,945 DEV : loss 1.3737729787826538 - f1-score (micro avg)  0.5891\n",
      "2023-06-19 07:45:29,951 ----------------------------------------------------------------------------------------------------\n"
     ]
    },
    {
     "name": "stderr",
     "output_type": "stream",
     "text": [
      "\n"
     ]
    },
    {
     "name": "stdout",
     "output_type": "stream",
     "text": [
      "2023-06-19 07:45:35,433 epoch 6 - iter 8/84 - loss 0.46048657 - time (sec): 5.48 - samples/sec: 170.91 - lr: 0.000003\n",
      "2023-06-19 07:45:40,567 epoch 6 - iter 16/84 - loss 0.32149525 - time (sec): 10.61 - samples/sec: 157.76 - lr: 0.000003\n",
      "2023-06-19 07:45:45,358 epoch 6 - iter 24/84 - loss 0.25833802 - time (sec): 15.40 - samples/sec: 151.67 - lr: 0.000003\n",
      "2023-06-19 07:45:49,847 epoch 6 - iter 32/84 - loss 0.31373469 - time (sec): 19.89 - samples/sec: 167.11 - lr: 0.000003\n",
      "2023-06-19 07:45:54,542 epoch 6 - iter 40/84 - loss 0.27900242 - time (sec): 24.59 - samples/sec: 164.93 - lr: 0.000003\n",
      "2023-06-19 07:45:59,422 epoch 6 - iter 48/84 - loss 0.25545475 - time (sec): 29.47 - samples/sec: 164.09 - lr: 0.000002\n",
      "2023-06-19 07:46:04,073 epoch 6 - iter 56/84 - loss 0.24827835 - time (sec): 34.12 - samples/sec: 168.72 - lr: 0.000002\n",
      "2023-06-19 07:46:09,344 epoch 6 - iter 64/84 - loss 0.21943686 - time (sec): 39.39 - samples/sec: 170.53 - lr: 0.000002\n",
      "2023-06-19 07:46:14,371 epoch 6 - iter 72/84 - loss 0.20790382 - time (sec): 44.41 - samples/sec: 165.37 - lr: 0.000002\n",
      "2023-06-19 07:46:19,521 epoch 6 - iter 80/84 - loss 0.20294361 - time (sec): 49.56 - samples/sec: 163.48 - lr: 0.000002\n",
      "2023-06-19 07:46:21,742 ----------------------------------------------------------------------------------------------------\n",
      "2023-06-19 07:46:21,748 EPOCH 6 done: loss 0.2072 - lr 0.000002\n"
     ]
    },
    {
     "name": "stderr",
     "output_type": "stream",
     "text": [
      "100%|██████████| 4/4 [00:00<00:00,  5.36it/s]"
     ]
    },
    {
     "name": "stdout",
     "output_type": "stream",
     "text": [
      "2023-06-19 07:46:22,512 Evaluating as a multi-label problem: False\n",
      "2023-06-19 07:46:22,538 DEV : loss 2.2991256713867188 - f1-score (micro avg)  0.5801\n",
      "2023-06-19 07:46:22,549 ----------------------------------------------------------------------------------------------------\n"
     ]
    },
    {
     "name": "stderr",
     "output_type": "stream",
     "text": [
      "\n"
     ]
    },
    {
     "name": "stdout",
     "output_type": "stream",
     "text": [
      "2023-06-19 07:46:27,081 epoch 7 - iter 8/84 - loss 1.09457961 - time (sec): 4.53 - samples/sec: 153.66 - lr: 0.000002\n",
      "2023-06-19 07:46:32,807 epoch 7 - iter 16/84 - loss 0.52930425 - time (sec): 10.25 - samples/sec: 172.99 - lr: 0.000002\n",
      "2023-06-19 07:46:37,722 epoch 7 - iter 24/84 - loss 0.36780436 - time (sec): 15.17 - samples/sec: 176.66 - lr: 0.000002\n",
      "2023-06-19 07:46:42,632 epoch 7 - iter 32/84 - loss 0.30388147 - time (sec): 20.08 - samples/sec: 171.21 - lr: 0.000002\n",
      "2023-06-19 07:46:47,453 epoch 7 - iter 40/84 - loss 0.26632351 - time (sec): 24.90 - samples/sec: 166.26 - lr: 0.000002\n",
      "2023-06-19 07:46:52,309 epoch 7 - iter 48/84 - loss 0.27174445 - time (sec): 29.76 - samples/sec: 164.37 - lr: 0.000002\n",
      "2023-06-19 07:46:57,012 epoch 7 - iter 56/84 - loss 0.26889670 - time (sec): 34.46 - samples/sec: 164.57 - lr: 0.000002\n",
      "2023-06-19 07:47:01,525 epoch 7 - iter 64/84 - loss 0.24154826 - time (sec): 38.97 - samples/sec: 166.01 - lr: 0.000002\n",
      "2023-06-19 07:47:06,135 epoch 7 - iter 72/84 - loss 0.23310328 - time (sec): 43.58 - samples/sec: 169.22 - lr: 0.000002\n",
      "2023-06-19 07:47:11,143 epoch 7 - iter 80/84 - loss 0.22014861 - time (sec): 48.59 - samples/sec: 165.22 - lr: 0.000002\n",
      "2023-06-19 07:47:13,505 ----------------------------------------------------------------------------------------------------\n",
      "2023-06-19 07:47:13,508 EPOCH 7 done: loss 0.2167 - lr 0.000002\n"
     ]
    },
    {
     "name": "stderr",
     "output_type": "stream",
     "text": [
      "100%|██████████| 4/4 [00:00<00:00,  5.29it/s]"
     ]
    },
    {
     "name": "stdout",
     "output_type": "stream",
     "text": [
      "2023-06-19 07:47:14,284 Evaluating as a multi-label problem: False\n",
      "2023-06-19 07:47:14,312 DEV : loss 1.668044924736023 - f1-score (micro avg)  0.6133\n",
      "2023-06-19 07:47:14,321 ----------------------------------------------------------------------------------------------------\n"
     ]
    },
    {
     "name": "stderr",
     "output_type": "stream",
     "text": [
      "\n"
     ]
    },
    {
     "name": "stdout",
     "output_type": "stream",
     "text": [
      "2023-06-19 07:47:19,360 epoch 8 - iter 8/84 - loss 0.08297291 - time (sec): 5.04 - samples/sec: 187.19 - lr: 0.000002\n",
      "2023-06-19 07:47:24,296 epoch 8 - iter 16/84 - loss 0.16649134 - time (sec): 9.97 - samples/sec: 182.88 - lr: 0.000002\n",
      "2023-06-19 07:47:29,177 epoch 8 - iter 24/84 - loss 0.14229439 - time (sec): 14.85 - samples/sec: 184.12 - lr: 0.000002\n",
      "2023-06-19 07:47:34,689 epoch 8 - iter 32/84 - loss 0.12293313 - time (sec): 20.37 - samples/sec: 179.17 - lr: 0.000001\n",
      "2023-06-19 07:47:39,096 epoch 8 - iter 40/84 - loss 0.10893244 - time (sec): 24.77 - samples/sec: 171.96 - lr: 0.000001\n",
      "2023-06-19 07:47:44,008 epoch 8 - iter 48/84 - loss 0.23370842 - time (sec): 29.69 - samples/sec: 175.88 - lr: 0.000001\n",
      "2023-06-19 07:47:48,564 epoch 8 - iter 56/84 - loss 0.22512742 - time (sec): 34.24 - samples/sec: 169.53 - lr: 0.000001\n",
      "2023-06-19 07:47:53,751 epoch 8 - iter 64/84 - loss 0.20479896 - time (sec): 39.43 - samples/sec: 168.54 - lr: 0.000001\n",
      "2023-06-19 07:47:58,515 epoch 8 - iter 72/84 - loss 0.19223669 - time (sec): 44.19 - samples/sec: 164.35 - lr: 0.000001\n",
      "2023-06-19 07:48:03,383 epoch 8 - iter 80/84 - loss 0.18504407 - time (sec): 49.06 - samples/sec: 163.78 - lr: 0.000001\n",
      "2023-06-19 07:48:05,703 ----------------------------------------------------------------------------------------------------\n",
      "2023-06-19 07:48:05,706 EPOCH 8 done: loss 0.1864 - lr 0.000001\n"
     ]
    },
    {
     "name": "stderr",
     "output_type": "stream",
     "text": [
      "100%|██████████| 4/4 [00:00<00:00,  5.34it/s]"
     ]
    },
    {
     "name": "stdout",
     "output_type": "stream",
     "text": [
      "2023-06-19 07:48:06,467 Evaluating as a multi-label problem: False\n",
      "2023-06-19 07:48:06,483 DEV : loss 1.459249496459961 - f1-score (micro avg)  0.5982\n",
      "2023-06-19 07:48:06,488 ----------------------------------------------------------------------------------------------------\n"
     ]
    },
    {
     "name": "stderr",
     "output_type": "stream",
     "text": [
      "\n"
     ]
    },
    {
     "name": "stdout",
     "output_type": "stream",
     "text": [
      "2023-06-19 07:48:11,592 epoch 9 - iter 8/84 - loss 0.04048209 - time (sec): 5.10 - samples/sec: 158.59 - lr: 0.000001\n",
      "2023-06-19 07:48:16,787 epoch 9 - iter 16/84 - loss 0.11061074 - time (sec): 10.30 - samples/sec: 182.00 - lr: 0.000001\n",
      "2023-06-19 07:48:21,723 epoch 9 - iter 24/84 - loss 0.16121787 - time (sec): 15.23 - samples/sec: 176.21 - lr: 0.000001\n",
      "2023-06-19 07:48:26,526 epoch 9 - iter 32/84 - loss 0.14671687 - time (sec): 20.04 - samples/sec: 167.55 - lr: 0.000001\n",
      "2023-06-19 07:48:31,244 epoch 9 - iter 40/84 - loss 0.15755498 - time (sec): 24.75 - samples/sec: 167.41 - lr: 0.000001\n",
      "2023-06-19 07:48:36,236 epoch 9 - iter 48/84 - loss 0.14586769 - time (sec): 29.74 - samples/sec: 167.32 - lr: 0.000001\n",
      "2023-06-19 07:48:41,061 epoch 9 - iter 56/84 - loss 0.13770889 - time (sec): 34.57 - samples/sec: 164.27 - lr: 0.000001\n",
      "2023-06-19 07:48:46,127 epoch 9 - iter 64/84 - loss 0.15738080 - time (sec): 39.64 - samples/sec: 165.20 - lr: 0.000001\n",
      "2023-06-19 07:48:51,365 epoch 9 - iter 72/84 - loss 0.15071588 - time (sec): 44.87 - samples/sec: 167.16 - lr: 0.000001\n",
      "2023-06-19 07:48:55,988 epoch 9 - iter 80/84 - loss 0.14670820 - time (sec): 49.50 - samples/sec: 166.66 - lr: 0.000001\n",
      "2023-06-19 07:48:57,910 ----------------------------------------------------------------------------------------------------\n",
      "2023-06-19 07:48:57,912 EPOCH 9 done: loss 0.1439 - lr 0.000001\n"
     ]
    },
    {
     "name": "stderr",
     "output_type": "stream",
     "text": [
      "100%|██████████| 4/4 [00:00<00:00,  5.27it/s]"
     ]
    },
    {
     "name": "stdout",
     "output_type": "stream",
     "text": [
      "2023-06-19 07:48:58,685 Evaluating as a multi-label problem: False\n",
      "2023-06-19 07:48:58,702 DEV : loss 1.543781042098999 - f1-score (micro avg)  0.6133\n",
      "2023-06-19 07:48:58,708 ----------------------------------------------------------------------------------------------------\n"
     ]
    },
    {
     "name": "stderr",
     "output_type": "stream",
     "text": [
      "\n"
     ]
    },
    {
     "name": "stdout",
     "output_type": "stream",
     "text": [
      "2023-06-19 07:49:03,315 epoch 10 - iter 8/84 - loss 0.05283791 - time (sec): 4.61 - samples/sec: 153.74 - lr: 0.000001\n",
      "2023-06-19 07:49:08,417 epoch 10 - iter 16/84 - loss 0.10039103 - time (sec): 9.71 - samples/sec: 163.39 - lr: 0.000000\n",
      "2023-06-19 07:49:13,675 epoch 10 - iter 24/84 - loss 0.12114354 - time (sec): 14.97 - samples/sec: 168.99 - lr: 0.000000\n",
      "2023-06-19 07:49:19,015 epoch 10 - iter 32/84 - loss 0.12064386 - time (sec): 20.30 - samples/sec: 166.61 - lr: 0.000000\n",
      "2023-06-19 07:49:23,758 epoch 10 - iter 40/84 - loss 0.10894907 - time (sec): 25.05 - samples/sec: 164.01 - lr: 0.000000\n",
      "2023-06-19 07:49:28,496 epoch 10 - iter 48/84 - loss 0.10617003 - time (sec): 29.79 - samples/sec: 163.03 - lr: 0.000000\n",
      "2023-06-19 07:49:33,246 epoch 10 - iter 56/84 - loss 0.09637496 - time (sec): 34.54 - samples/sec: 162.64 - lr: 0.000000\n",
      "2023-06-19 07:49:38,462 epoch 10 - iter 64/84 - loss 0.09301838 - time (sec): 39.75 - samples/sec: 163.97 - lr: 0.000000\n",
      "2023-06-19 07:49:42,869 epoch 10 - iter 72/84 - loss 0.08971955 - time (sec): 44.16 - samples/sec: 162.80 - lr: 0.000000\n",
      "2023-06-19 07:49:47,829 epoch 10 - iter 80/84 - loss 0.10593798 - time (sec): 49.12 - samples/sec: 161.48 - lr: 0.000000\n",
      "2023-06-19 07:49:50,435 ----------------------------------------------------------------------------------------------------\n",
      "2023-06-19 07:49:50,438 EPOCH 10 done: loss 0.1154 - lr 0.000000\n"
     ]
    },
    {
     "name": "stderr",
     "output_type": "stream",
     "text": [
      "100%|██████████| 4/4 [00:00<00:00,  5.34it/s]"
     ]
    },
    {
     "name": "stdout",
     "output_type": "stream",
     "text": [
      "2023-06-19 07:49:51,207 Evaluating as a multi-label problem: False\n",
      "2023-06-19 07:49:51,232 DEV : loss 1.472876787185669 - f1-score (micro avg)  0.6314\n"
     ]
    },
    {
     "name": "stderr",
     "output_type": "stream",
     "text": [
      "\n"
     ]
    },
    {
     "name": "stdout",
     "output_type": "stream",
     "text": [
      "2023-06-19 07:50:05,331 ----------------------------------------------------------------------------------------------------\n",
      "2023-06-19 07:50:05,339 Testing using last state of model ...\n"
     ]
    },
    {
     "name": "stderr",
     "output_type": "stream",
     "text": [
      "100%|██████████| 246/246 [00:42<00:00,  5.84it/s]\n"
     ]
    },
    {
     "name": "stdout",
     "output_type": "stream",
     "text": [
      "2023-06-19 07:50:47,539 Evaluating as a multi-label problem: False\n",
      "2023-06-19 07:50:47,745 0.6436\t0.6436\t0.6436\t0.6436\n",
      "2023-06-19 07:50:47,746 \n",
      "Results:\n",
      "- F-score (micro) 0.6436\n",
      "- F-score (macro) 0.5017\n",
      "- Accuracy 0.6436\n",
      "\n",
      "By class:\n",
      "              precision    recall  f1-score   support\n",
      "\n",
      "  expwittest     0.9741    0.7594    0.8535      7789\n",
      "        Otag     0.5811    0.8133    0.6779      4918\n",
      "     wittest     0.7568    0.2252    0.3471      3841\n",
      "    evidence     0.1292    0.9689    0.2280       257\n",
      "     assault     0.4662    0.8503    0.6023       755\n",
      "        riot     0.3676    0.9585    0.5314       410\n",
      "    homicide     0.4190    0.1747    0.2466      1036\n",
      "imprisonment     0.4664    0.6047    0.5266       344\n",
      "\n",
      "    accuracy                         0.6436     19350\n",
      "   macro avg     0.5201    0.6694    0.5017     19350\n",
      "weighted avg     0.7484    0.6436    0.6451     19350\n",
      "\n",
      "2023-06-19 07:50:47,753 ----------------------------------------------------------------------------------------------------\n"
     ]
    },
    {
     "data": {
      "text/plain": [
       "{'test_score': 0.6435658914728682,\n",
       " 'dev_score_history': [0.6404833836858006,\n",
       "  0.5981873111782477,\n",
       "  0.6435045317220544,\n",
       "  0.6525679758308157,\n",
       "  0.5891238670694864,\n",
       "  0.5800604229607251,\n",
       "  0.6132930513595166,\n",
       "  0.5981873111782477,\n",
       "  0.6132930513595166,\n",
       "  0.6314199395770392],\n",
       " 'train_loss_history': [0.1971358872752552,\n",
       "  0.31771004038583167,\n",
       "  0.23542266480729035,\n",
       "  0.22821419044504682,\n",
       "  0.20324077769956805,\n",
       "  0.20716582914055306,\n",
       "  0.2167189044486571,\n",
       "  0.1864443739786278,\n",
       "  0.14386032156813694,\n",
       "  0.11541792703427584],\n",
       " 'dev_loss_history': [1.5980676412582397,\n",
       "  1.4579026699066162,\n",
       "  1.6676369905471802,\n",
       "  1.727426528930664,\n",
       "  1.3737729787826538,\n",
       "  2.2991256713867188,\n",
       "  1.668044924736023,\n",
       "  1.459249496459961,\n",
       "  1.543781042098999,\n",
       "  1.472876787185669]}"
      ]
     },
     "execution_count": 15,
     "metadata": {},
     "output_type": "execute_result"
    }
   ],
   "source": [
    "trainer.fine_tune('/content/drive/MyDrive/Subinay/5_riot_10_evidence_gpt2_pr/',\n",
    "                  learning_rate=5.0e-6,\n",
    "                  mini_batch_size=3,\n",
    "                  #mini_batch_chunk_size=1,  # remove this parameter to speed up computation if you have a big GPU\n",
    "                  )"
   ]
  },
  {
   "cell_type": "code",
   "execution_count": null,
   "metadata": {
    "colab": {
     "base_uri": "https://localhost:8080/"
    },
    "id": "jnG-isZ8pyHe",
    "outputId": "2ab55ec3-884e-4edf-9796-6132da131c50"
   },
   "outputs": [
    {
     "name": "stdout",
     "output_type": "stream",
     "text": [
      "2023-06-17 11:45:15,536 SequenceTagger predicts: Dictionary with 8 tags: Otag, riot, evidence, assault, wittest, imprisonment, expwittest, homicide\n"
     ]
    }
   ],
   "source": [
    "model = SequenceTagger.load(\"/content/drive/MyDrive/Subinay/tagger_gpt3.5_5_riot_10_evidence/final-model.pt\")"
   ]
  }
 ],
 "metadata": {
  "accelerator": "GPU",
  "colab": {
   "provenance": []
  },
  "gpuClass": "standard",
  "kernelspec": {
   "display_name": "Python 3 (ipykernel)",
   "language": "python",
   "name": "python3"
  },
  "language_info": {
   "codemirror_mode": {
    "name": "ipython",
    "version": 3
   },
   "file_extension": ".py",
   "mimetype": "text/x-python",
   "name": "python",
   "nbconvert_exporter": "python",
   "pygments_lexer": "ipython3",
   "version": "3.9.13"
  },
  "widgets": {
   "application/vnd.jupyter.widget-state+json": {
    "015aca89d1614410b09713baf5c131fd": {
     "model_module": "@jupyter-widgets/controls",
     "model_module_version": "1.5.0",
     "model_name": "ProgressStyleModel",
     "state": {
      "_model_module": "@jupyter-widgets/controls",
      "_model_module_version": "1.5.0",
      "_model_name": "ProgressStyleModel",
      "_view_count": null,
      "_view_module": "@jupyter-widgets/base",
      "_view_module_version": "1.2.0",
      "_view_name": "StyleView",
      "bar_color": null,
      "description_width": ""
     }
    },
    "04813f503a8e4fc99707c2ea736b4f2e": {
     "model_module": "@jupyter-widgets/controls",
     "model_module_version": "1.5.0",
     "model_name": "HTMLModel",
     "state": {
      "_dom_classes": [],
      "_model_module": "@jupyter-widgets/controls",
      "_model_module_version": "1.5.0",
      "_model_name": "HTMLModel",
      "_view_count": null,
      "_view_module": "@jupyter-widgets/controls",
      "_view_module_version": "1.5.0",
      "_view_name": "HTMLView",
      "description": "",
      "description_tooltip": null,
      "layout": "IPY_MODEL_3f0416c87bc14baf88ec573d64d31716",
      "placeholder": "​",
      "style": "IPY_MODEL_c2720d2f57424c07babe65efeef153c0",
      "value": " 616/616 [00:00&lt;00:00, 38.8kB/s]"
     }
    },
    "0560dcf1697e491f93023b3607b9dab5": {
     "model_module": "@jupyter-widgets/base",
     "model_module_version": "1.2.0",
     "model_name": "LayoutModel",
     "state": {
      "_model_module": "@jupyter-widgets/base",
      "_model_module_version": "1.2.0",
      "_model_name": "LayoutModel",
      "_view_count": null,
      "_view_module": "@jupyter-widgets/base",
      "_view_module_version": "1.2.0",
      "_view_name": "LayoutView",
      "align_content": null,
      "align_items": null,
      "align_self": null,
      "border": null,
      "bottom": null,
      "display": null,
      "flex": null,
      "flex_flow": null,
      "grid_area": null,
      "grid_auto_columns": null,
      "grid_auto_flow": null,
      "grid_auto_rows": null,
      "grid_column": null,
      "grid_gap": null,
      "grid_row": null,
      "grid_template_areas": null,
      "grid_template_columns": null,
      "grid_template_rows": null,
      "height": null,
      "justify_content": null,
      "justify_items": null,
      "left": null,
      "margin": null,
      "max_height": null,
      "max_width": null,
      "min_height": null,
      "min_width": null,
      "object_fit": null,
      "object_position": null,
      "order": null,
      "overflow": null,
      "overflow_x": null,
      "overflow_y": null,
      "padding": null,
      "right": null,
      "top": null,
      "visibility": null,
      "width": null
     }
    },
    "1b202a18d40d44b391bfc0c08a838fef": {
     "model_module": "@jupyter-widgets/controls",
     "model_module_version": "1.5.0",
     "model_name": "DescriptionStyleModel",
     "state": {
      "_model_module": "@jupyter-widgets/controls",
      "_model_module_version": "1.5.0",
      "_model_name": "DescriptionStyleModel",
      "_view_count": null,
      "_view_module": "@jupyter-widgets/base",
      "_view_module_version": "1.2.0",
      "_view_name": "StyleView",
      "description_width": ""
     }
    },
    "1e282d67e74f48a9a13e012c36bee5e5": {
     "model_module": "@jupyter-widgets/controls",
     "model_module_version": "1.5.0",
     "model_name": "FloatProgressModel",
     "state": {
      "_dom_classes": [],
      "_model_module": "@jupyter-widgets/controls",
      "_model_module_version": "1.5.0",
      "_model_name": "FloatProgressModel",
      "_view_count": null,
      "_view_module": "@jupyter-widgets/controls",
      "_view_module_version": "1.5.0",
      "_view_name": "ProgressView",
      "bar_style": "success",
      "description": "",
      "description_tooltip": null,
      "layout": "IPY_MODEL_605fa811421b421ca330da3e3fe97199",
      "max": 616,
      "min": 0,
      "orientation": "horizontal",
      "style": "IPY_MODEL_41e53bce36b74d4f9dc2cfa19d1a36cf",
      "value": 616
     }
    },
    "22958f1c6bfa43f5ba0d182065a35b40": {
     "model_module": "@jupyter-widgets/base",
     "model_module_version": "1.2.0",
     "model_name": "LayoutModel",
     "state": {
      "_model_module": "@jupyter-widgets/base",
      "_model_module_version": "1.2.0",
      "_model_name": "LayoutModel",
      "_view_count": null,
      "_view_module": "@jupyter-widgets/base",
      "_view_module_version": "1.2.0",
      "_view_name": "LayoutView",
      "align_content": null,
      "align_items": null,
      "align_self": null,
      "border": null,
      "bottom": null,
      "display": null,
      "flex": null,
      "flex_flow": null,
      "grid_area": null,
      "grid_auto_columns": null,
      "grid_auto_flow": null,
      "grid_auto_rows": null,
      "grid_column": null,
      "grid_gap": null,
      "grid_row": null,
      "grid_template_areas": null,
      "grid_template_columns": null,
      "grid_template_rows": null,
      "height": null,
      "justify_content": null,
      "justify_items": null,
      "left": null,
      "margin": null,
      "max_height": null,
      "max_width": null,
      "min_height": null,
      "min_width": null,
      "object_fit": null,
      "object_position": null,
      "order": null,
      "overflow": null,
      "overflow_x": null,
      "overflow_y": null,
      "padding": null,
      "right": null,
      "top": null,
      "visibility": null,
      "width": null
     }
    },
    "28e00d5e7ace44dd8d979d20b97ad402": {
     "model_module": "@jupyter-widgets/controls",
     "model_module_version": "1.5.0",
     "model_name": "HBoxModel",
     "state": {
      "_dom_classes": [],
      "_model_module": "@jupyter-widgets/controls",
      "_model_module_version": "1.5.0",
      "_model_name": "HBoxModel",
      "_view_count": null,
      "_view_module": "@jupyter-widgets/controls",
      "_view_module_version": "1.5.0",
      "_view_name": "HBoxView",
      "box_style": "",
      "children": [
       "IPY_MODEL_6dd9579d2a4a45358792d54842896acc",
       "IPY_MODEL_b5c34666f9d54436a2a623a2dd6d7bfb",
       "IPY_MODEL_d7e79bf7276c49d2a2166d7e2d8297eb"
      ],
      "layout": "IPY_MODEL_93a258a9bae4462fa0559651761d470f"
     }
    },
    "2cf4f1ffeb7c46ecba13d1dd06869b01": {
     "model_module": "@jupyter-widgets/base",
     "model_module_version": "1.2.0",
     "model_name": "LayoutModel",
     "state": {
      "_model_module": "@jupyter-widgets/base",
      "_model_module_version": "1.2.0",
      "_model_name": "LayoutModel",
      "_view_count": null,
      "_view_module": "@jupyter-widgets/base",
      "_view_module_version": "1.2.0",
      "_view_name": "LayoutView",
      "align_content": null,
      "align_items": null,
      "align_self": null,
      "border": null,
      "bottom": null,
      "display": null,
      "flex": null,
      "flex_flow": null,
      "grid_area": null,
      "grid_auto_columns": null,
      "grid_auto_flow": null,
      "grid_auto_rows": null,
      "grid_column": null,
      "grid_gap": null,
      "grid_row": null,
      "grid_template_areas": null,
      "grid_template_columns": null,
      "grid_template_rows": null,
      "height": null,
      "justify_content": null,
      "justify_items": null,
      "left": null,
      "margin": null,
      "max_height": null,
      "max_width": null,
      "min_height": null,
      "min_width": null,
      "object_fit": null,
      "object_position": null,
      "order": null,
      "overflow": null,
      "overflow_x": null,
      "overflow_y": null,
      "padding": null,
      "right": null,
      "top": null,
      "visibility": null,
      "width": null
     }
    },
    "2ddaa4921c9547518fe8f2121aca7e5a": {
     "model_module": "@jupyter-widgets/controls",
     "model_module_version": "1.5.0",
     "model_name": "DescriptionStyleModel",
     "state": {
      "_model_module": "@jupyter-widgets/controls",
      "_model_module_version": "1.5.0",
      "_model_name": "DescriptionStyleModel",
      "_view_count": null,
      "_view_module": "@jupyter-widgets/base",
      "_view_module_version": "1.2.0",
      "_view_name": "StyleView",
      "description_width": ""
     }
    },
    "3ee880ed9ac04911beafc6724c79c552": {
     "model_module": "@jupyter-widgets/base",
     "model_module_version": "1.2.0",
     "model_name": "LayoutModel",
     "state": {
      "_model_module": "@jupyter-widgets/base",
      "_model_module_version": "1.2.0",
      "_model_name": "LayoutModel",
      "_view_count": null,
      "_view_module": "@jupyter-widgets/base",
      "_view_module_version": "1.2.0",
      "_view_name": "LayoutView",
      "align_content": null,
      "align_items": null,
      "align_self": null,
      "border": null,
      "bottom": null,
      "display": null,
      "flex": null,
      "flex_flow": null,
      "grid_area": null,
      "grid_auto_columns": null,
      "grid_auto_flow": null,
      "grid_auto_rows": null,
      "grid_column": null,
      "grid_gap": null,
      "grid_row": null,
      "grid_template_areas": null,
      "grid_template_columns": null,
      "grid_template_rows": null,
      "height": null,
      "justify_content": null,
      "justify_items": null,
      "left": null,
      "margin": null,
      "max_height": null,
      "max_width": null,
      "min_height": null,
      "min_width": null,
      "object_fit": null,
      "object_position": null,
      "order": null,
      "overflow": null,
      "overflow_x": null,
      "overflow_y": null,
      "padding": null,
      "right": null,
      "top": null,
      "visibility": null,
      "width": null
     }
    },
    "3f0416c87bc14baf88ec573d64d31716": {
     "model_module": "@jupyter-widgets/base",
     "model_module_version": "1.2.0",
     "model_name": "LayoutModel",
     "state": {
      "_model_module": "@jupyter-widgets/base",
      "_model_module_version": "1.2.0",
      "_model_name": "LayoutModel",
      "_view_count": null,
      "_view_module": "@jupyter-widgets/base",
      "_view_module_version": "1.2.0",
      "_view_name": "LayoutView",
      "align_content": null,
      "align_items": null,
      "align_self": null,
      "border": null,
      "bottom": null,
      "display": null,
      "flex": null,
      "flex_flow": null,
      "grid_area": null,
      "grid_auto_columns": null,
      "grid_auto_flow": null,
      "grid_auto_rows": null,
      "grid_column": null,
      "grid_gap": null,
      "grid_row": null,
      "grid_template_areas": null,
      "grid_template_columns": null,
      "grid_template_rows": null,
      "height": null,
      "justify_content": null,
      "justify_items": null,
      "left": null,
      "margin": null,
      "max_height": null,
      "max_width": null,
      "min_height": null,
      "min_width": null,
      "object_fit": null,
      "object_position": null,
      "order": null,
      "overflow": null,
      "overflow_x": null,
      "overflow_y": null,
      "padding": null,
      "right": null,
      "top": null,
      "visibility": null,
      "width": null
     }
    },
    "414003fc1de6418a8fd3966d4f38f981": {
     "model_module": "@jupyter-widgets/controls",
     "model_module_version": "1.5.0",
     "model_name": "HBoxModel",
     "state": {
      "_dom_classes": [],
      "_model_module": "@jupyter-widgets/controls",
      "_model_module_version": "1.5.0",
      "_model_name": "HBoxModel",
      "_view_count": null,
      "_view_module": "@jupyter-widgets/controls",
      "_view_module_version": "1.5.0",
      "_view_name": "HBoxView",
      "box_style": "",
      "children": [
       "IPY_MODEL_5caee092a80246299c6e4fbbaa2b2ac3",
       "IPY_MODEL_59b21260bb3f4dd8aef1b71b1ce7f1c4",
       "IPY_MODEL_721768aedee94b779687cbd64c3ade7a"
      ],
      "layout": "IPY_MODEL_22958f1c6bfa43f5ba0d182065a35b40"
     }
    },
    "41e53bce36b74d4f9dc2cfa19d1a36cf": {
     "model_module": "@jupyter-widgets/controls",
     "model_module_version": "1.5.0",
     "model_name": "ProgressStyleModel",
     "state": {
      "_model_module": "@jupyter-widgets/controls",
      "_model_module_version": "1.5.0",
      "_model_name": "ProgressStyleModel",
      "_view_count": null,
      "_view_module": "@jupyter-widgets/base",
      "_view_module_version": "1.2.0",
      "_view_name": "StyleView",
      "bar_color": null,
      "description_width": ""
     }
    },
    "522e221d031f4eb8bc66836532c22952": {
     "model_module": "@jupyter-widgets/controls",
     "model_module_version": "1.5.0",
     "model_name": "FloatProgressModel",
     "state": {
      "_dom_classes": [],
      "_model_module": "@jupyter-widgets/controls",
      "_model_module_version": "1.5.0",
      "_model_name": "FloatProgressModel",
      "_view_count": null,
      "_view_module": "@jupyter-widgets/controls",
      "_view_module_version": "1.5.0",
      "_view_name": "ProgressView",
      "bar_style": "success",
      "description": "",
      "description_tooltip": null,
      "layout": "IPY_MODEL_2cf4f1ffeb7c46ecba13d1dd06869b01",
      "max": 2244817354,
      "min": 0,
      "orientation": "horizontal",
      "style": "IPY_MODEL_015aca89d1614410b09713baf5c131fd",
      "value": 2244817354
     }
    },
    "59b21260bb3f4dd8aef1b71b1ce7f1c4": {
     "model_module": "@jupyter-widgets/controls",
     "model_module_version": "1.5.0",
     "model_name": "FloatProgressModel",
     "state": {
      "_dom_classes": [],
      "_model_module": "@jupyter-widgets/controls",
      "_model_module_version": "1.5.0",
      "_model_name": "FloatProgressModel",
      "_view_count": null,
      "_view_module": "@jupyter-widgets/controls",
      "_view_module_version": "1.5.0",
      "_view_name": "ProgressView",
      "bar_style": "success",
      "description": "",
      "description_tooltip": null,
      "layout": "IPY_MODEL_5a908428b0b34fe4a112b1e2abec8223",
      "max": 9096718,
      "min": 0,
      "orientation": "horizontal",
      "style": "IPY_MODEL_952d446fcab648128eea0f69269803db",
      "value": 9096718
     }
    },
    "5a908428b0b34fe4a112b1e2abec8223": {
     "model_module": "@jupyter-widgets/base",
     "model_module_version": "1.2.0",
     "model_name": "LayoutModel",
     "state": {
      "_model_module": "@jupyter-widgets/base",
      "_model_module_version": "1.2.0",
      "_model_name": "LayoutModel",
      "_view_count": null,
      "_view_module": "@jupyter-widgets/base",
      "_view_module_version": "1.2.0",
      "_view_name": "LayoutView",
      "align_content": null,
      "align_items": null,
      "align_self": null,
      "border": null,
      "bottom": null,
      "display": null,
      "flex": null,
      "flex_flow": null,
      "grid_area": null,
      "grid_auto_columns": null,
      "grid_auto_flow": null,
      "grid_auto_rows": null,
      "grid_column": null,
      "grid_gap": null,
      "grid_row": null,
      "grid_template_areas": null,
      "grid_template_columns": null,
      "grid_template_rows": null,
      "height": null,
      "justify_content": null,
      "justify_items": null,
      "left": null,
      "margin": null,
      "max_height": null,
      "max_width": null,
      "min_height": null,
      "min_width": null,
      "object_fit": null,
      "object_position": null,
      "order": null,
      "overflow": null,
      "overflow_x": null,
      "overflow_y": null,
      "padding": null,
      "right": null,
      "top": null,
      "visibility": null,
      "width": null
     }
    },
    "5caee092a80246299c6e4fbbaa2b2ac3": {
     "model_module": "@jupyter-widgets/controls",
     "model_module_version": "1.5.0",
     "model_name": "HTMLModel",
     "state": {
      "_dom_classes": [],
      "_model_module": "@jupyter-widgets/controls",
      "_model_module_version": "1.5.0",
      "_model_name": "HTMLModel",
      "_view_count": null,
      "_view_module": "@jupyter-widgets/controls",
      "_view_module_version": "1.5.0",
      "_view_name": "HTMLView",
      "description": "",
      "description_tooltip": null,
      "layout": "IPY_MODEL_d8f02a65d7bf4fdbbf0628823d6e841f",
      "placeholder": "​",
      "style": "IPY_MODEL_981b9bcde6474ed5a53c5ac76f34e365",
      "value": "Downloading (…)/main/tokenizer.json: 100%"
     }
    },
    "605fa811421b421ca330da3e3fe97199": {
     "model_module": "@jupyter-widgets/base",
     "model_module_version": "1.2.0",
     "model_name": "LayoutModel",
     "state": {
      "_model_module": "@jupyter-widgets/base",
      "_model_module_version": "1.2.0",
      "_model_name": "LayoutModel",
      "_view_count": null,
      "_view_module": "@jupyter-widgets/base",
      "_view_module_version": "1.2.0",
      "_view_name": "LayoutView",
      "align_content": null,
      "align_items": null,
      "align_self": null,
      "border": null,
      "bottom": null,
      "display": null,
      "flex": null,
      "flex_flow": null,
      "grid_area": null,
      "grid_auto_columns": null,
      "grid_auto_flow": null,
      "grid_auto_rows": null,
      "grid_column": null,
      "grid_gap": null,
      "grid_row": null,
      "grid_template_areas": null,
      "grid_template_columns": null,
      "grid_template_rows": null,
      "height": null,
      "justify_content": null,
      "justify_items": null,
      "left": null,
      "margin": null,
      "max_height": null,
      "max_width": null,
      "min_height": null,
      "min_width": null,
      "object_fit": null,
      "object_position": null,
      "order": null,
      "overflow": null,
      "overflow_x": null,
      "overflow_y": null,
      "padding": null,
      "right": null,
      "top": null,
      "visibility": null,
      "width": null
     }
    },
    "6af89b68903341d5992cfc585742c0d5": {
     "model_module": "@jupyter-widgets/controls",
     "model_module_version": "1.5.0",
     "model_name": "ProgressStyleModel",
     "state": {
      "_model_module": "@jupyter-widgets/controls",
      "_model_module_version": "1.5.0",
      "_model_name": "ProgressStyleModel",
      "_view_count": null,
      "_view_module": "@jupyter-widgets/base",
      "_view_module_version": "1.2.0",
      "_view_name": "StyleView",
      "bar_color": null,
      "description_width": ""
     }
    },
    "6dd9579d2a4a45358792d54842896acc": {
     "model_module": "@jupyter-widgets/controls",
     "model_module_version": "1.5.0",
     "model_name": "HTMLModel",
     "state": {
      "_dom_classes": [],
      "_model_module": "@jupyter-widgets/controls",
      "_model_module_version": "1.5.0",
      "_model_name": "HTMLModel",
      "_view_count": null,
      "_view_module": "@jupyter-widgets/controls",
      "_view_module_version": "1.5.0",
      "_view_name": "HTMLView",
      "description": "",
      "description_tooltip": null,
      "layout": "IPY_MODEL_fba7101afaab4ef787f3e794cdee0011",
      "placeholder": "​",
      "style": "IPY_MODEL_2ddaa4921c9547518fe8f2121aca7e5a",
      "value": "Downloading (…)tencepiece.bpe.model: 100%"
     }
    },
    "721768aedee94b779687cbd64c3ade7a": {
     "model_module": "@jupyter-widgets/controls",
     "model_module_version": "1.5.0",
     "model_name": "HTMLModel",
     "state": {
      "_dom_classes": [],
      "_model_module": "@jupyter-widgets/controls",
      "_model_module_version": "1.5.0",
      "_model_name": "HTMLModel",
      "_view_count": null,
      "_view_module": "@jupyter-widgets/controls",
      "_view_module_version": "1.5.0",
      "_view_name": "HTMLView",
      "description": "",
      "description_tooltip": null,
      "layout": "IPY_MODEL_d68f810ae5254441a36d5f7bef97f3ca",
      "placeholder": "​",
      "style": "IPY_MODEL_1b202a18d40d44b391bfc0c08a838fef",
      "value": " 9.10M/9.10M [00:00&lt;00:00, 21.2MB/s]"
     }
    },
    "785ce4b1fc104b618de5fa519fa8c511": {
     "model_module": "@jupyter-widgets/base",
     "model_module_version": "1.2.0",
     "model_name": "LayoutModel",
     "state": {
      "_model_module": "@jupyter-widgets/base",
      "_model_module_version": "1.2.0",
      "_model_name": "LayoutModel",
      "_view_count": null,
      "_view_module": "@jupyter-widgets/base",
      "_view_module_version": "1.2.0",
      "_view_name": "LayoutView",
      "align_content": null,
      "align_items": null,
      "align_self": null,
      "border": null,
      "bottom": null,
      "display": null,
      "flex": null,
      "flex_flow": null,
      "grid_area": null,
      "grid_auto_columns": null,
      "grid_auto_flow": null,
      "grid_auto_rows": null,
      "grid_column": null,
      "grid_gap": null,
      "grid_row": null,
      "grid_template_areas": null,
      "grid_template_columns": null,
      "grid_template_rows": null,
      "height": null,
      "justify_content": null,
      "justify_items": null,
      "left": null,
      "margin": null,
      "max_height": null,
      "max_width": null,
      "min_height": null,
      "min_width": null,
      "object_fit": null,
      "object_position": null,
      "order": null,
      "overflow": null,
      "overflow_x": null,
      "overflow_y": null,
      "padding": null,
      "right": null,
      "top": null,
      "visibility": null,
      "width": null
     }
    },
    "7a3cb7821e664466a59b0ad40536686d": {
     "model_module": "@jupyter-widgets/base",
     "model_module_version": "1.2.0",
     "model_name": "LayoutModel",
     "state": {
      "_model_module": "@jupyter-widgets/base",
      "_model_module_version": "1.2.0",
      "_model_name": "LayoutModel",
      "_view_count": null,
      "_view_module": "@jupyter-widgets/base",
      "_view_module_version": "1.2.0",
      "_view_name": "LayoutView",
      "align_content": null,
      "align_items": null,
      "align_self": null,
      "border": null,
      "bottom": null,
      "display": null,
      "flex": null,
      "flex_flow": null,
      "grid_area": null,
      "grid_auto_columns": null,
      "grid_auto_flow": null,
      "grid_auto_rows": null,
      "grid_column": null,
      "grid_gap": null,
      "grid_row": null,
      "grid_template_areas": null,
      "grid_template_columns": null,
      "grid_template_rows": null,
      "height": null,
      "justify_content": null,
      "justify_items": null,
      "left": null,
      "margin": null,
      "max_height": null,
      "max_width": null,
      "min_height": null,
      "min_width": null,
      "object_fit": null,
      "object_position": null,
      "order": null,
      "overflow": null,
      "overflow_x": null,
      "overflow_y": null,
      "padding": null,
      "right": null,
      "top": null,
      "visibility": null,
      "width": null
     }
    },
    "7c07fbfedda64103860d6a144332b9e1": {
     "model_module": "@jupyter-widgets/controls",
     "model_module_version": "1.5.0",
     "model_name": "HTMLModel",
     "state": {
      "_dom_classes": [],
      "_model_module": "@jupyter-widgets/controls",
      "_model_module_version": "1.5.0",
      "_model_name": "HTMLModel",
      "_view_count": null,
      "_view_module": "@jupyter-widgets/controls",
      "_view_module_version": "1.5.0",
      "_view_name": "HTMLView",
      "description": "",
      "description_tooltip": null,
      "layout": "IPY_MODEL_785ce4b1fc104b618de5fa519fa8c511",
      "placeholder": "​",
      "style": "IPY_MODEL_e828210e24634c07a516f6631e0b5967",
      "value": " 2.24G/2.24G [00:08&lt;00:00, 284MB/s]"
     }
    },
    "85aa66409bcc4cfb988c69fbd22942cf": {
     "model_module": "@jupyter-widgets/base",
     "model_module_version": "1.2.0",
     "model_name": "LayoutModel",
     "state": {
      "_model_module": "@jupyter-widgets/base",
      "_model_module_version": "1.2.0",
      "_model_name": "LayoutModel",
      "_view_count": null,
      "_view_module": "@jupyter-widgets/base",
      "_view_module_version": "1.2.0",
      "_view_name": "LayoutView",
      "align_content": null,
      "align_items": null,
      "align_self": null,
      "border": null,
      "bottom": null,
      "display": null,
      "flex": null,
      "flex_flow": null,
      "grid_area": null,
      "grid_auto_columns": null,
      "grid_auto_flow": null,
      "grid_auto_rows": null,
      "grid_column": null,
      "grid_gap": null,
      "grid_row": null,
      "grid_template_areas": null,
      "grid_template_columns": null,
      "grid_template_rows": null,
      "height": null,
      "justify_content": null,
      "justify_items": null,
      "left": null,
      "margin": null,
      "max_height": null,
      "max_width": null,
      "min_height": null,
      "min_width": null,
      "object_fit": null,
      "object_position": null,
      "order": null,
      "overflow": null,
      "overflow_x": null,
      "overflow_y": null,
      "padding": null,
      "right": null,
      "top": null,
      "visibility": null,
      "width": null
     }
    },
    "919b77c1aaf54c8381d3322907e2739b": {
     "model_module": "@jupyter-widgets/controls",
     "model_module_version": "1.5.0",
     "model_name": "DescriptionStyleModel",
     "state": {
      "_model_module": "@jupyter-widgets/controls",
      "_model_module_version": "1.5.0",
      "_model_name": "DescriptionStyleModel",
      "_view_count": null,
      "_view_module": "@jupyter-widgets/base",
      "_view_module_version": "1.2.0",
      "_view_name": "StyleView",
      "description_width": ""
     }
    },
    "93a258a9bae4462fa0559651761d470f": {
     "model_module": "@jupyter-widgets/base",
     "model_module_version": "1.2.0",
     "model_name": "LayoutModel",
     "state": {
      "_model_module": "@jupyter-widgets/base",
      "_model_module_version": "1.2.0",
      "_model_name": "LayoutModel",
      "_view_count": null,
      "_view_module": "@jupyter-widgets/base",
      "_view_module_version": "1.2.0",
      "_view_name": "LayoutView",
      "align_content": null,
      "align_items": null,
      "align_self": null,
      "border": null,
      "bottom": null,
      "display": null,
      "flex": null,
      "flex_flow": null,
      "grid_area": null,
      "grid_auto_columns": null,
      "grid_auto_flow": null,
      "grid_auto_rows": null,
      "grid_column": null,
      "grid_gap": null,
      "grid_row": null,
      "grid_template_areas": null,
      "grid_template_columns": null,
      "grid_template_rows": null,
      "height": null,
      "justify_content": null,
      "justify_items": null,
      "left": null,
      "margin": null,
      "max_height": null,
      "max_width": null,
      "min_height": null,
      "min_width": null,
      "object_fit": null,
      "object_position": null,
      "order": null,
      "overflow": null,
      "overflow_x": null,
      "overflow_y": null,
      "padding": null,
      "right": null,
      "top": null,
      "visibility": null,
      "width": null
     }
    },
    "952d446fcab648128eea0f69269803db": {
     "model_module": "@jupyter-widgets/controls",
     "model_module_version": "1.5.0",
     "model_name": "ProgressStyleModel",
     "state": {
      "_model_module": "@jupyter-widgets/controls",
      "_model_module_version": "1.5.0",
      "_model_name": "ProgressStyleModel",
      "_view_count": null,
      "_view_module": "@jupyter-widgets/base",
      "_view_module_version": "1.2.0",
      "_view_name": "StyleView",
      "bar_color": null,
      "description_width": ""
     }
    },
    "981b9bcde6474ed5a53c5ac76f34e365": {
     "model_module": "@jupyter-widgets/controls",
     "model_module_version": "1.5.0",
     "model_name": "DescriptionStyleModel",
     "state": {
      "_model_module": "@jupyter-widgets/controls",
      "_model_module_version": "1.5.0",
      "_model_name": "DescriptionStyleModel",
      "_view_count": null,
      "_view_module": "@jupyter-widgets/base",
      "_view_module_version": "1.2.0",
      "_view_name": "StyleView",
      "description_width": ""
     }
    },
    "9d2e7a1618d640669df1a788e60ca2ef": {
     "model_module": "@jupyter-widgets/controls",
     "model_module_version": "1.5.0",
     "model_name": "HBoxModel",
     "state": {
      "_dom_classes": [],
      "_model_module": "@jupyter-widgets/controls",
      "_model_module_version": "1.5.0",
      "_model_name": "HBoxModel",
      "_view_count": null,
      "_view_module": "@jupyter-widgets/controls",
      "_view_module_version": "1.5.0",
      "_view_name": "HBoxView",
      "box_style": "",
      "children": [
       "IPY_MODEL_e4dcf7759ff745cd881a3c6873f0ba6f",
       "IPY_MODEL_522e221d031f4eb8bc66836532c22952",
       "IPY_MODEL_7c07fbfedda64103860d6a144332b9e1"
      ],
      "layout": "IPY_MODEL_adc6a0cb2c00429a8d5c4b5fbec65c52"
     }
    },
    "a7f57cad836a4224a550931f4f1f364d": {
     "model_module": "@jupyter-widgets/base",
     "model_module_version": "1.2.0",
     "model_name": "LayoutModel",
     "state": {
      "_model_module": "@jupyter-widgets/base",
      "_model_module_version": "1.2.0",
      "_model_name": "LayoutModel",
      "_view_count": null,
      "_view_module": "@jupyter-widgets/base",
      "_view_module_version": "1.2.0",
      "_view_name": "LayoutView",
      "align_content": null,
      "align_items": null,
      "align_self": null,
      "border": null,
      "bottom": null,
      "display": null,
      "flex": null,
      "flex_flow": null,
      "grid_area": null,
      "grid_auto_columns": null,
      "grid_auto_flow": null,
      "grid_auto_rows": null,
      "grid_column": null,
      "grid_gap": null,
      "grid_row": null,
      "grid_template_areas": null,
      "grid_template_columns": null,
      "grid_template_rows": null,
      "height": null,
      "justify_content": null,
      "justify_items": null,
      "left": null,
      "margin": null,
      "max_height": null,
      "max_width": null,
      "min_height": null,
      "min_width": null,
      "object_fit": null,
      "object_position": null,
      "order": null,
      "overflow": null,
      "overflow_x": null,
      "overflow_y": null,
      "padding": null,
      "right": null,
      "top": null,
      "visibility": null,
      "width": null
     }
    },
    "adc6a0cb2c00429a8d5c4b5fbec65c52": {
     "model_module": "@jupyter-widgets/base",
     "model_module_version": "1.2.0",
     "model_name": "LayoutModel",
     "state": {
      "_model_module": "@jupyter-widgets/base",
      "_model_module_version": "1.2.0",
      "_model_name": "LayoutModel",
      "_view_count": null,
      "_view_module": "@jupyter-widgets/base",
      "_view_module_version": "1.2.0",
      "_view_name": "LayoutView",
      "align_content": null,
      "align_items": null,
      "align_self": null,
      "border": null,
      "bottom": null,
      "display": null,
      "flex": null,
      "flex_flow": null,
      "grid_area": null,
      "grid_auto_columns": null,
      "grid_auto_flow": null,
      "grid_auto_rows": null,
      "grid_column": null,
      "grid_gap": null,
      "grid_row": null,
      "grid_template_areas": null,
      "grid_template_columns": null,
      "grid_template_rows": null,
      "height": null,
      "justify_content": null,
      "justify_items": null,
      "left": null,
      "margin": null,
      "max_height": null,
      "max_width": null,
      "min_height": null,
      "min_width": null,
      "object_fit": null,
      "object_position": null,
      "order": null,
      "overflow": null,
      "overflow_x": null,
      "overflow_y": null,
      "padding": null,
      "right": null,
      "top": null,
      "visibility": null,
      "width": null
     }
    },
    "b0083d5e540b49639f318402055353e6": {
     "model_module": "@jupyter-widgets/controls",
     "model_module_version": "1.5.0",
     "model_name": "HBoxModel",
     "state": {
      "_dom_classes": [],
      "_model_module": "@jupyter-widgets/controls",
      "_model_module_version": "1.5.0",
      "_model_name": "HBoxModel",
      "_view_count": null,
      "_view_module": "@jupyter-widgets/controls",
      "_view_module_version": "1.5.0",
      "_view_name": "HBoxView",
      "box_style": "",
      "children": [
       "IPY_MODEL_b61e67d8b8224df9bd02eb36510dda88",
       "IPY_MODEL_1e282d67e74f48a9a13e012c36bee5e5",
       "IPY_MODEL_04813f503a8e4fc99707c2ea736b4f2e"
      ],
      "layout": "IPY_MODEL_7a3cb7821e664466a59b0ad40536686d"
     }
    },
    "b5c34666f9d54436a2a623a2dd6d7bfb": {
     "model_module": "@jupyter-widgets/controls",
     "model_module_version": "1.5.0",
     "model_name": "FloatProgressModel",
     "state": {
      "_dom_classes": [],
      "_model_module": "@jupyter-widgets/controls",
      "_model_module_version": "1.5.0",
      "_model_name": "FloatProgressModel",
      "_view_count": null,
      "_view_module": "@jupyter-widgets/controls",
      "_view_module_version": "1.5.0",
      "_view_name": "ProgressView",
      "bar_style": "success",
      "description": "",
      "description_tooltip": null,
      "layout": "IPY_MODEL_3ee880ed9ac04911beafc6724c79c552",
      "max": 5069051,
      "min": 0,
      "orientation": "horizontal",
      "style": "IPY_MODEL_6af89b68903341d5992cfc585742c0d5",
      "value": 5069051
     }
    },
    "b61e67d8b8224df9bd02eb36510dda88": {
     "model_module": "@jupyter-widgets/controls",
     "model_module_version": "1.5.0",
     "model_name": "HTMLModel",
     "state": {
      "_dom_classes": [],
      "_model_module": "@jupyter-widgets/controls",
      "_model_module_version": "1.5.0",
      "_model_name": "HTMLModel",
      "_view_count": null,
      "_view_module": "@jupyter-widgets/controls",
      "_view_module_version": "1.5.0",
      "_view_name": "HTMLView",
      "description": "",
      "description_tooltip": null,
      "layout": "IPY_MODEL_0560dcf1697e491f93023b3607b9dab5",
      "placeholder": "​",
      "style": "IPY_MODEL_f2c64392fb9b41bfb96a772ee79e67af",
      "value": "Downloading (…)lve/main/config.json: 100%"
     }
    },
    "c2720d2f57424c07babe65efeef153c0": {
     "model_module": "@jupyter-widgets/controls",
     "model_module_version": "1.5.0",
     "model_name": "DescriptionStyleModel",
     "state": {
      "_model_module": "@jupyter-widgets/controls",
      "_model_module_version": "1.5.0",
      "_model_name": "DescriptionStyleModel",
      "_view_count": null,
      "_view_module": "@jupyter-widgets/base",
      "_view_module_version": "1.2.0",
      "_view_name": "StyleView",
      "description_width": ""
     }
    },
    "d68f810ae5254441a36d5f7bef97f3ca": {
     "model_module": "@jupyter-widgets/base",
     "model_module_version": "1.2.0",
     "model_name": "LayoutModel",
     "state": {
      "_model_module": "@jupyter-widgets/base",
      "_model_module_version": "1.2.0",
      "_model_name": "LayoutModel",
      "_view_count": null,
      "_view_module": "@jupyter-widgets/base",
      "_view_module_version": "1.2.0",
      "_view_name": "LayoutView",
      "align_content": null,
      "align_items": null,
      "align_self": null,
      "border": null,
      "bottom": null,
      "display": null,
      "flex": null,
      "flex_flow": null,
      "grid_area": null,
      "grid_auto_columns": null,
      "grid_auto_flow": null,
      "grid_auto_rows": null,
      "grid_column": null,
      "grid_gap": null,
      "grid_row": null,
      "grid_template_areas": null,
      "grid_template_columns": null,
      "grid_template_rows": null,
      "height": null,
      "justify_content": null,
      "justify_items": null,
      "left": null,
      "margin": null,
      "max_height": null,
      "max_width": null,
      "min_height": null,
      "min_width": null,
      "object_fit": null,
      "object_position": null,
      "order": null,
      "overflow": null,
      "overflow_x": null,
      "overflow_y": null,
      "padding": null,
      "right": null,
      "top": null,
      "visibility": null,
      "width": null
     }
    },
    "d7e79bf7276c49d2a2166d7e2d8297eb": {
     "model_module": "@jupyter-widgets/controls",
     "model_module_version": "1.5.0",
     "model_name": "HTMLModel",
     "state": {
      "_dom_classes": [],
      "_model_module": "@jupyter-widgets/controls",
      "_model_module_version": "1.5.0",
      "_model_name": "HTMLModel",
      "_view_count": null,
      "_view_module": "@jupyter-widgets/controls",
      "_view_module_version": "1.5.0",
      "_view_name": "HTMLView",
      "description": "",
      "description_tooltip": null,
      "layout": "IPY_MODEL_85aa66409bcc4cfb988c69fbd22942cf",
      "placeholder": "​",
      "style": "IPY_MODEL_e32874e92469479d93680117fdfd5df8",
      "value": " 5.07M/5.07M [00:01&lt;00:00, 4.61MB/s]"
     }
    },
    "d8f02a65d7bf4fdbbf0628823d6e841f": {
     "model_module": "@jupyter-widgets/base",
     "model_module_version": "1.2.0",
     "model_name": "LayoutModel",
     "state": {
      "_model_module": "@jupyter-widgets/base",
      "_model_module_version": "1.2.0",
      "_model_name": "LayoutModel",
      "_view_count": null,
      "_view_module": "@jupyter-widgets/base",
      "_view_module_version": "1.2.0",
      "_view_name": "LayoutView",
      "align_content": null,
      "align_items": null,
      "align_self": null,
      "border": null,
      "bottom": null,
      "display": null,
      "flex": null,
      "flex_flow": null,
      "grid_area": null,
      "grid_auto_columns": null,
      "grid_auto_flow": null,
      "grid_auto_rows": null,
      "grid_column": null,
      "grid_gap": null,
      "grid_row": null,
      "grid_template_areas": null,
      "grid_template_columns": null,
      "grid_template_rows": null,
      "height": null,
      "justify_content": null,
      "justify_items": null,
      "left": null,
      "margin": null,
      "max_height": null,
      "max_width": null,
      "min_height": null,
      "min_width": null,
      "object_fit": null,
      "object_position": null,
      "order": null,
      "overflow": null,
      "overflow_x": null,
      "overflow_y": null,
      "padding": null,
      "right": null,
      "top": null,
      "visibility": null,
      "width": null
     }
    },
    "e32874e92469479d93680117fdfd5df8": {
     "model_module": "@jupyter-widgets/controls",
     "model_module_version": "1.5.0",
     "model_name": "DescriptionStyleModel",
     "state": {
      "_model_module": "@jupyter-widgets/controls",
      "_model_module_version": "1.5.0",
      "_model_name": "DescriptionStyleModel",
      "_view_count": null,
      "_view_module": "@jupyter-widgets/base",
      "_view_module_version": "1.2.0",
      "_view_name": "StyleView",
      "description_width": ""
     }
    },
    "e4dcf7759ff745cd881a3c6873f0ba6f": {
     "model_module": "@jupyter-widgets/controls",
     "model_module_version": "1.5.0",
     "model_name": "HTMLModel",
     "state": {
      "_dom_classes": [],
      "_model_module": "@jupyter-widgets/controls",
      "_model_module_version": "1.5.0",
      "_model_name": "HTMLModel",
      "_view_count": null,
      "_view_module": "@jupyter-widgets/controls",
      "_view_module_version": "1.5.0",
      "_view_name": "HTMLView",
      "description": "",
      "description_tooltip": null,
      "layout": "IPY_MODEL_a7f57cad836a4224a550931f4f1f364d",
      "placeholder": "​",
      "style": "IPY_MODEL_919b77c1aaf54c8381d3322907e2739b",
      "value": "Downloading model.safetensors: 100%"
     }
    },
    "e828210e24634c07a516f6631e0b5967": {
     "model_module": "@jupyter-widgets/controls",
     "model_module_version": "1.5.0",
     "model_name": "DescriptionStyleModel",
     "state": {
      "_model_module": "@jupyter-widgets/controls",
      "_model_module_version": "1.5.0",
      "_model_name": "DescriptionStyleModel",
      "_view_count": null,
      "_view_module": "@jupyter-widgets/base",
      "_view_module_version": "1.2.0",
      "_view_name": "StyleView",
      "description_width": ""
     }
    },
    "f2c64392fb9b41bfb96a772ee79e67af": {
     "model_module": "@jupyter-widgets/controls",
     "model_module_version": "1.5.0",
     "model_name": "DescriptionStyleModel",
     "state": {
      "_model_module": "@jupyter-widgets/controls",
      "_model_module_version": "1.5.0",
      "_model_name": "DescriptionStyleModel",
      "_view_count": null,
      "_view_module": "@jupyter-widgets/base",
      "_view_module_version": "1.2.0",
      "_view_name": "StyleView",
      "description_width": ""
     }
    },
    "fba7101afaab4ef787f3e794cdee0011": {
     "model_module": "@jupyter-widgets/base",
     "model_module_version": "1.2.0",
     "model_name": "LayoutModel",
     "state": {
      "_model_module": "@jupyter-widgets/base",
      "_model_module_version": "1.2.0",
      "_model_name": "LayoutModel",
      "_view_count": null,
      "_view_module": "@jupyter-widgets/base",
      "_view_module_version": "1.2.0",
      "_view_name": "LayoutView",
      "align_content": null,
      "align_items": null,
      "align_self": null,
      "border": null,
      "bottom": null,
      "display": null,
      "flex": null,
      "flex_flow": null,
      "grid_area": null,
      "grid_auto_columns": null,
      "grid_auto_flow": null,
      "grid_auto_rows": null,
      "grid_column": null,
      "grid_gap": null,
      "grid_row": null,
      "grid_template_areas": null,
      "grid_template_columns": null,
      "grid_template_rows": null,
      "height": null,
      "justify_content": null,
      "justify_items": null,
      "left": null,
      "margin": null,
      "max_height": null,
      "max_width": null,
      "min_height": null,
      "min_width": null,
      "object_fit": null,
      "object_position": null,
      "order": null,
      "overflow": null,
      "overflow_x": null,
      "overflow_y": null,
      "padding": null,
      "right": null,
      "top": null,
      "visibility": null,
      "width": null
     }
    }
   }
  }
 },
 "nbformat": 4,
 "nbformat_minor": 1
}
